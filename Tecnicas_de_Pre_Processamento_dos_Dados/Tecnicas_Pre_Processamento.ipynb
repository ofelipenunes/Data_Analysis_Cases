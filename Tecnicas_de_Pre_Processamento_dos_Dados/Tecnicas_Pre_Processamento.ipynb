{
 "cells": [
  {
   "cell_type": "markdown",
   "id": "ec62fcb0-2a84-445e-a929-536022496d80",
   "metadata": {},
   "source": [
    "\n",
    "# <font color='Orange'>Projetos de Análise de Dados com Linguagem Python</font>\n",
    "# <font color='Orange'>Projeto 2 - Técnicas de Pré-Processamento Para Análise de Dados</font>"
   ]
  },
  {
   "cell_type": "markdown",
   "id": "e9e7c47c-1563-4b7e-a64c-0027e58c8494",
   "metadata": {},
   "source": [
    "## Pacotes Python Usados no Projeto"
   ]
  },
  {
   "cell_type": "code",
   "execution_count": 1,
   "id": "3da5f76b-b951-4e2e-91cf-53d6d27df971",
   "metadata": {},
   "outputs": [],
   "source": [
    "!pip install -q -U watermark"
   ]
  },
  {
   "cell_type": "code",
   "execution_count": 2,
   "id": "701d25b3-d6c6-428e-9be2-01db7da674f5",
   "metadata": {},
   "outputs": [],
   "source": [
    "!pip install -q missingno"
   ]
  },
  {
   "cell_type": "code",
   "execution_count": 3,
   "id": "ccc3cb2c-5eac-4680-b5fa-ffbf8114431d",
   "metadata": {},
   "outputs": [
    {
     "name": "stdout",
     "output_type": "stream",
     "text": [
      "Requirement already satisfied: matplotlib in c:\\users\\felic\\anaconda3\\lib\\site-packages (3.8.4)\n",
      "Collecting matplotlib\n",
      "  Downloading matplotlib-3.10.1-cp312-cp312-win_amd64.whl.metadata (11 kB)\n",
      "Requirement already satisfied: contourpy>=1.0.1 in c:\\users\\felic\\anaconda3\\lib\\site-packages (from matplotlib) (1.2.0)\n",
      "Requirement already satisfied: cycler>=0.10 in c:\\users\\felic\\anaconda3\\lib\\site-packages (from matplotlib) (0.11.0)\n",
      "Requirement already satisfied: fonttools>=4.22.0 in c:\\users\\felic\\anaconda3\\lib\\site-packages (from matplotlib) (4.51.0)\n",
      "Requirement already satisfied: kiwisolver>=1.3.1 in c:\\users\\felic\\anaconda3\\lib\\site-packages (from matplotlib) (1.4.4)\n",
      "Requirement already satisfied: numpy>=1.23 in c:\\users\\felic\\anaconda3\\lib\\site-packages (from matplotlib) (1.26.4)\n",
      "Requirement already satisfied: packaging>=20.0 in c:\\users\\felic\\appdata\\roaming\\python\\python312\\site-packages (from matplotlib) (23.2)\n",
      "Requirement already satisfied: pillow>=8 in c:\\users\\felic\\anaconda3\\lib\\site-packages (from matplotlib) (10.3.0)\n",
      "Requirement already satisfied: pyparsing>=2.3.1 in c:\\users\\felic\\anaconda3\\lib\\site-packages (from matplotlib) (3.0.9)\n",
      "Requirement already satisfied: python-dateutil>=2.7 in c:\\users\\felic\\appdata\\roaming\\python\\python312\\site-packages (from matplotlib) (2.8.2)\n",
      "Requirement already satisfied: six>=1.5 in c:\\users\\felic\\appdata\\roaming\\python\\python312\\site-packages (from python-dateutil>=2.7->matplotlib) (1.16.0)\n",
      "Downloading matplotlib-3.10.1-cp312-cp312-win_amd64.whl (8.1 MB)\n",
      "   ---------------------------------------- 0.0/8.1 MB ? eta -:--:--\n",
      "   ----------------------- ---------------- 4.7/8.1 MB 23.7 MB/s eta 0:00:01\n",
      "   ---------------------------------------- 8.1/8.1 MB 26.3 MB/s eta 0:00:00\n",
      "Installing collected packages: matplotlib\n",
      "  Attempting uninstall: matplotlib\n",
      "    Found existing installation: matplotlib 3.8.4\n",
      "    Uninstalling matplotlib-3.8.4:\n",
      "      Successfully uninstalled matplotlib-3.8.4\n",
      "Successfully installed matplotlib-3.10.1\n"
     ]
    }
   ],
   "source": [
    "!pip install -U matplotlib"
   ]
  },
  {
   "cell_type": "code",
   "execution_count": 4,
   "id": "92150d51-8c0a-4a2b-a9c0-afee468b6f13",
   "metadata": {},
   "outputs": [],
   "source": [
    "#Imports\n",
    "import pandas as pd\n",
    "import numpy as np\n",
    "import matplotlib.pyplot as plt\n",
    "import seaborn as sns\n",
    "import missingno as msno"
   ]
  },
  {
   "cell_type": "code",
   "execution_count": 5,
   "id": "15282dd0-910c-411a-9ae8-5b9cc138db5d",
   "metadata": {},
   "outputs": [
    {
     "name": "stdout",
     "output_type": "stream",
     "text": [
      "Author: Analista de Dados Felipe Nunes\n",
      "\n"
     ]
    }
   ],
   "source": [
    "%reload_ext watermark\n",
    "%watermark -a \"Analista de Dados Felipe Nunes\""
   ]
  },
  {
   "cell_type": "markdown",
   "id": "fbd7441e-e0b2-41d8-9f0e-d8c48405f2af",
   "metadata": {},
   "source": [
    "## Carregando os Dados"
   ]
  },
  {
   "cell_type": "code",
   "execution_count": 6,
   "id": "b4e3de6b-7acd-4476-a953-ce147eaf1873",
   "metadata": {},
   "outputs": [],
   "source": [
    "# Carrega o dataset\n",
    "df_dsa = pd.read_csv(\"dataset.csv\")"
   ]
  },
  {
   "cell_type": "code",
   "execution_count": 7,
   "id": "3bc01fb1-f01a-4dcf-962e-c5cc43f5f95f",
   "metadata": {},
   "outputs": [
    {
     "data": {
      "text/plain": [
       "(500, 5)"
      ]
     },
     "execution_count": 7,
     "metadata": {},
     "output_type": "execute_result"
    }
   ],
   "source": [
    "# Shape\n",
    "df_dsa.shape"
   ]
  },
  {
   "cell_type": "code",
   "execution_count": 8,
   "id": "0c3e4fec-f4ba-4e1d-b91f-3501200df707",
   "metadata": {},
   "outputs": [
    {
     "data": {
      "text/plain": [
       "Index(['Idade', 'Salario', 'Genero', 'Escolaridade',\n",
       "       'Score_Exame_Psicotecnico'],\n",
       "      dtype='object')"
      ]
     },
     "execution_count": 8,
     "metadata": {},
     "output_type": "execute_result"
    }
   ],
   "source": [
    "# Colunas\n",
    "df_dsa.columns"
   ]
  },
  {
   "cell_type": "code",
   "execution_count": 9,
   "id": "f503744f-e74b-42cb-95cb-058a72fd289f",
   "metadata": {},
   "outputs": [
    {
     "data": {
      "text/html": [
       "<div>\n",
       "<style scoped>\n",
       "    .dataframe tbody tr th:only-of-type {\n",
       "        vertical-align: middle;\n",
       "    }\n",
       "\n",
       "    .dataframe tbody tr th {\n",
       "        vertical-align: top;\n",
       "    }\n",
       "\n",
       "    .dataframe thead th {\n",
       "        text-align: right;\n",
       "    }\n",
       "</style>\n",
       "<table border=\"1\" class=\"dataframe\">\n",
       "  <thead>\n",
       "    <tr style=\"text-align: right;\">\n",
       "      <th></th>\n",
       "      <th>Idade</th>\n",
       "      <th>Salario</th>\n",
       "      <th>Genero</th>\n",
       "      <th>Escolaridade</th>\n",
       "      <th>Score_Exame_Psicotecnico</th>\n",
       "    </tr>\n",
       "  </thead>\n",
       "  <tbody>\n",
       "    <tr>\n",
       "      <th>0</th>\n",
       "      <td>58</td>\n",
       "      <td>30404.959339</td>\n",
       "      <td>Masculino</td>\n",
       "      <td>Médio</td>\n",
       "      <td>56.0</td>\n",
       "    </tr>\n",
       "    <tr>\n",
       "      <th>1</th>\n",
       "      <td>48</td>\n",
       "      <td>20886.502401</td>\n",
       "      <td>Feminino</td>\n",
       "      <td>Médio</td>\n",
       "      <td>NaN</td>\n",
       "    </tr>\n",
       "    <tr>\n",
       "      <th>2</th>\n",
       "      <td>34</td>\n",
       "      <td>15959.388748</td>\n",
       "      <td>Masculino</td>\n",
       "      <td>Médio</td>\n",
       "      <td>57.0</td>\n",
       "    </tr>\n",
       "    <tr>\n",
       "      <th>3</th>\n",
       "      <td>62</td>\n",
       "      <td>28534.995327</td>\n",
       "      <td>Outro</td>\n",
       "      <td>Superior</td>\n",
       "      <td>68.0</td>\n",
       "    </tr>\n",
       "    <tr>\n",
       "      <th>4</th>\n",
       "      <td>27</td>\n",
       "      <td>10553.176215</td>\n",
       "      <td>Outro</td>\n",
       "      <td>Fundamental</td>\n",
       "      <td>44.0</td>\n",
       "    </tr>\n",
       "  </tbody>\n",
       "</table>\n",
       "</div>"
      ],
      "text/plain": [
       "   Idade       Salario     Genero Escolaridade  Score_Exame_Psicotecnico\n",
       "0     58  30404.959339  Masculino        Médio                      56.0\n",
       "1     48  20886.502401   Feminino        Médio                       NaN\n",
       "2     34  15959.388748  Masculino        Médio                      57.0\n",
       "3     62  28534.995327      Outro     Superior                      68.0\n",
       "4     27  10553.176215      Outro  Fundamental                      44.0"
      ]
     },
     "execution_count": 9,
     "metadata": {},
     "output_type": "execute_result"
    }
   ],
   "source": [
    "# 5 primeiras linhas do dataset\n",
    "df_dsa.head()"
   ]
  },
  {
   "cell_type": "code",
   "execution_count": 10,
   "id": "028f57f0-0dbc-4cb9-a6dc-3a95e0ce0a83",
   "metadata": {},
   "outputs": [
    {
     "data": {
      "text/html": [
       "<div>\n",
       "<style scoped>\n",
       "    .dataframe tbody tr th:only-of-type {\n",
       "        vertical-align: middle;\n",
       "    }\n",
       "\n",
       "    .dataframe tbody tr th {\n",
       "        vertical-align: top;\n",
       "    }\n",
       "\n",
       "    .dataframe thead th {\n",
       "        text-align: right;\n",
       "    }\n",
       "</style>\n",
       "<table border=\"1\" class=\"dataframe\">\n",
       "  <thead>\n",
       "    <tr style=\"text-align: right;\">\n",
       "      <th></th>\n",
       "      <th>Idade</th>\n",
       "      <th>Salario</th>\n",
       "      <th>Genero</th>\n",
       "      <th>Escolaridade</th>\n",
       "      <th>Score_Exame_Psicotecnico</th>\n",
       "    </tr>\n",
       "  </thead>\n",
       "  <tbody>\n",
       "    <tr>\n",
       "      <th>445</th>\n",
       "      <td>35</td>\n",
       "      <td>8987.081979</td>\n",
       "      <td>Masculino</td>\n",
       "      <td>Superior</td>\n",
       "      <td>86.0</td>\n",
       "    </tr>\n",
       "    <tr>\n",
       "      <th>260</th>\n",
       "      <td>20</td>\n",
       "      <td>11855.729367</td>\n",
       "      <td>Outro</td>\n",
       "      <td>Médio</td>\n",
       "      <td>45.0</td>\n",
       "    </tr>\n",
       "    <tr>\n",
       "      <th>305</th>\n",
       "      <td>31</td>\n",
       "      <td>17168.310526</td>\n",
       "      <td>Feminino</td>\n",
       "      <td>Fundamental</td>\n",
       "      <td>25.0</td>\n",
       "    </tr>\n",
       "    <tr>\n",
       "      <th>284</th>\n",
       "      <td>44</td>\n",
       "      <td>23634.636869</td>\n",
       "      <td>Masculino</td>\n",
       "      <td>Médio</td>\n",
       "      <td>NaN</td>\n",
       "    </tr>\n",
       "    <tr>\n",
       "      <th>259</th>\n",
       "      <td>21</td>\n",
       "      <td>9484.773070</td>\n",
       "      <td>Masculino</td>\n",
       "      <td>Superior</td>\n",
       "      <td>65.0</td>\n",
       "    </tr>\n",
       "    <tr>\n",
       "      <th>19</th>\n",
       "      <td>63</td>\n",
       "      <td>28542.143056</td>\n",
       "      <td>Feminino</td>\n",
       "      <td>Superior</td>\n",
       "      <td>100.0</td>\n",
       "    </tr>\n",
       "    <tr>\n",
       "      <th>81</th>\n",
       "      <td>43</td>\n",
       "      <td>17634.951081</td>\n",
       "      <td>Feminino</td>\n",
       "      <td>Fundamental</td>\n",
       "      <td>55.0</td>\n",
       "    </tr>\n",
       "    <tr>\n",
       "      <th>440</th>\n",
       "      <td>41</td>\n",
       "      <td>17801.201598</td>\n",
       "      <td>Outro</td>\n",
       "      <td>Fundamental</td>\n",
       "      <td>32.0</td>\n",
       "    </tr>\n",
       "    <tr>\n",
       "      <th>151</th>\n",
       "      <td>62</td>\n",
       "      <td>30722.261506</td>\n",
       "      <td>Masculino</td>\n",
       "      <td>Médio</td>\n",
       "      <td>NaN</td>\n",
       "    </tr>\n",
       "    <tr>\n",
       "      <th>317</th>\n",
       "      <td>40</td>\n",
       "      <td>29383.979063</td>\n",
       "      <td>Outro</td>\n",
       "      <td>Médio</td>\n",
       "      <td>80.0</td>\n",
       "    </tr>\n",
       "  </tbody>\n",
       "</table>\n",
       "</div>"
      ],
      "text/plain": [
       "     Idade       Salario     Genero Escolaridade  Score_Exame_Psicotecnico\n",
       "445     35   8987.081979  Masculino     Superior                      86.0\n",
       "260     20  11855.729367      Outro        Médio                      45.0\n",
       "305     31  17168.310526   Feminino  Fundamental                      25.0\n",
       "284     44  23634.636869  Masculino        Médio                       NaN\n",
       "259     21   9484.773070  Masculino     Superior                      65.0\n",
       "19      63  28542.143056   Feminino     Superior                     100.0\n",
       "81      43  17634.951081   Feminino  Fundamental                      55.0\n",
       "440     41  17801.201598      Outro  Fundamental                      32.0\n",
       "151     62  30722.261506  Masculino        Médio                       NaN\n",
       "317     40  29383.979063      Outro        Médio                      80.0"
      ]
     },
     "execution_count": 10,
     "metadata": {},
     "output_type": "execute_result"
    }
   ],
   "source": [
    "# Amostra dos dados\n",
    "df_dsa.sample(10)"
   ]
  },
  {
   "cell_type": "code",
   "execution_count": 11,
   "id": "e09838ea-e8ed-4efa-8ed5-031035663ac8",
   "metadata": {},
   "outputs": [
    {
     "name": "stdout",
     "output_type": "stream",
     "text": [
      "<class 'pandas.core.frame.DataFrame'>\n",
      "RangeIndex: 500 entries, 0 to 499\n",
      "Data columns (total 5 columns):\n",
      " #   Column                    Non-Null Count  Dtype  \n",
      "---  ------                    --------------  -----  \n",
      " 0   Idade                     500 non-null    int64  \n",
      " 1   Salario                   450 non-null    float64\n",
      " 2   Genero                    500 non-null    object \n",
      " 3   Escolaridade              500 non-null    object \n",
      " 4   Score_Exame_Psicotecnico  470 non-null    float64\n",
      "dtypes: float64(2), int64(1), object(2)\n",
      "memory usage: 19.7+ KB\n"
     ]
    }
   ],
   "source": [
    "# Info\n",
    "df_dsa.info()"
   ]
  },
  {
   "cell_type": "markdown",
   "id": "7e737953-2f3f-492e-884b-b722963a8f46",
   "metadata": {},
   "source": [
    "## Análise Exploratória dos Dados"
   ]
  },
  {
   "cell_type": "markdown",
   "id": "a345f46a-cdf6-4d9c-bcf9-d54764a56830",
   "metadata": {},
   "source": [
    "Esta etapa do processo ajuda a compreender como os dados estão organizados e os eventuais problemas."
   ]
  },
  {
   "cell_type": "code",
   "execution_count": 12,
   "id": "c23e64b2-50a5-4ed1-8b91-6c897cf3d9cb",
   "metadata": {},
   "outputs": [
    {
     "data": {
      "text/html": [
       "<div>\n",
       "<style scoped>\n",
       "    .dataframe tbody tr th:only-of-type {\n",
       "        vertical-align: middle;\n",
       "    }\n",
       "\n",
       "    .dataframe tbody tr th {\n",
       "        vertical-align: top;\n",
       "    }\n",
       "\n",
       "    .dataframe thead th {\n",
       "        text-align: right;\n",
       "    }\n",
       "</style>\n",
       "<table border=\"1\" class=\"dataframe\">\n",
       "  <thead>\n",
       "    <tr style=\"text-align: right;\">\n",
       "      <th></th>\n",
       "      <th>Genero</th>\n",
       "      <th>Escolaridade</th>\n",
       "    </tr>\n",
       "  </thead>\n",
       "  <tbody>\n",
       "    <tr>\n",
       "      <th>count</th>\n",
       "      <td>500</td>\n",
       "      <td>500</td>\n",
       "    </tr>\n",
       "    <tr>\n",
       "      <th>unique</th>\n",
       "      <td>3</td>\n",
       "      <td>3</td>\n",
       "    </tr>\n",
       "    <tr>\n",
       "      <th>top</th>\n",
       "      <td>Feminino</td>\n",
       "      <td>Médio</td>\n",
       "    </tr>\n",
       "    <tr>\n",
       "      <th>freq</th>\n",
       "      <td>169</td>\n",
       "      <td>274</td>\n",
       "    </tr>\n",
       "  </tbody>\n",
       "</table>\n",
       "</div>"
      ],
      "text/plain": [
       "          Genero Escolaridade\n",
       "count        500          500\n",
       "unique         3            3\n",
       "top     Feminino        Médio\n",
       "freq         169          274"
      ]
     },
     "execution_count": 12,
     "metadata": {},
     "output_type": "execute_result"
    }
   ],
   "source": [
    "# Descrevendo os dados não numéricos\n",
    "df_dsa.describe(include = object)"
   ]
  },
  {
   "cell_type": "code",
   "execution_count": 13,
   "id": "7c892a92-d86c-401f-b312-2b18be1e700b",
   "metadata": {},
   "outputs": [
    {
     "data": {
      "text/html": [
       "<div>\n",
       "<style scoped>\n",
       "    .dataframe tbody tr th:only-of-type {\n",
       "        vertical-align: middle;\n",
       "    }\n",
       "\n",
       "    .dataframe tbody tr th {\n",
       "        vertical-align: top;\n",
       "    }\n",
       "\n",
       "    .dataframe thead th {\n",
       "        text-align: right;\n",
       "    }\n",
       "</style>\n",
       "<table border=\"1\" class=\"dataframe\">\n",
       "  <thead>\n",
       "    <tr style=\"text-align: right;\">\n",
       "      <th></th>\n",
       "      <th>Idade</th>\n",
       "      <th>Salario</th>\n",
       "      <th>Score_Exame_Psicotecnico</th>\n",
       "    </tr>\n",
       "  </thead>\n",
       "  <tbody>\n",
       "    <tr>\n",
       "      <th>count</th>\n",
       "      <td>500.000000</td>\n",
       "      <td>450.000000</td>\n",
       "      <td>470.000000</td>\n",
       "    </tr>\n",
       "    <tr>\n",
       "      <th>mean</th>\n",
       "      <td>42.848000</td>\n",
       "      <td>21252.781137</td>\n",
       "      <td>61.565957</td>\n",
       "    </tr>\n",
       "    <tr>\n",
       "      <th>std</th>\n",
       "      <td>13.189725</td>\n",
       "      <td>8322.933018</td>\n",
       "      <td>17.662523</td>\n",
       "    </tr>\n",
       "    <tr>\n",
       "      <th>min</th>\n",
       "      <td>20.000000</td>\n",
       "      <td>-3254.849042</td>\n",
       "      <td>20.000000</td>\n",
       "    </tr>\n",
       "    <tr>\n",
       "      <th>25%</th>\n",
       "      <td>31.750000</td>\n",
       "      <td>15139.019963</td>\n",
       "      <td>48.000000</td>\n",
       "    </tr>\n",
       "    <tr>\n",
       "      <th>50%</th>\n",
       "      <td>44.000000</td>\n",
       "      <td>21681.102602</td>\n",
       "      <td>61.000000</td>\n",
       "    </tr>\n",
       "    <tr>\n",
       "      <th>75%</th>\n",
       "      <td>54.000000</td>\n",
       "      <td>27379.540314</td>\n",
       "      <td>74.000000</td>\n",
       "    </tr>\n",
       "    <tr>\n",
       "      <th>max</th>\n",
       "      <td>65.000000</td>\n",
       "      <td>40845.107626</td>\n",
       "      <td>100.000000</td>\n",
       "    </tr>\n",
       "  </tbody>\n",
       "</table>\n",
       "</div>"
      ],
      "text/plain": [
       "            Idade       Salario  Score_Exame_Psicotecnico\n",
       "count  500.000000    450.000000                470.000000\n",
       "mean    42.848000  21252.781137                 61.565957\n",
       "std     13.189725   8322.933018                 17.662523\n",
       "min     20.000000  -3254.849042                 20.000000\n",
       "25%     31.750000  15139.019963                 48.000000\n",
       "50%     44.000000  21681.102602                 61.000000\n",
       "75%     54.000000  27379.540314                 74.000000\n",
       "max     65.000000  40845.107626                100.000000"
      ]
     },
     "execution_count": 13,
     "metadata": {},
     "output_type": "execute_result"
    }
   ],
   "source": [
    "# Descrevendo os dados numéricos\n",
    "df_dsa.describe()"
   ]
  },
  {
   "cell_type": "markdown",
   "id": "3d5ae5ad-8d9e-425a-a87c-83e828edaca7",
   "metadata": {},
   "source": [
    "## Visualizando a Distribuição das Variáveis Quantitativas"
   ]
  },
  {
   "cell_type": "code",
   "execution_count": 14,
   "id": "3fa97dce-c05c-48fb-9b36-90c4b8745a9b",
   "metadata": {},
   "outputs": [
    {
     "data": {
      "text/html": [
       "<div>\n",
       "<style scoped>\n",
       "    .dataframe tbody tr th:only-of-type {\n",
       "        vertical-align: middle;\n",
       "    }\n",
       "\n",
       "    .dataframe tbody tr th {\n",
       "        vertical-align: top;\n",
       "    }\n",
       "\n",
       "    .dataframe thead th {\n",
       "        text-align: right;\n",
       "    }\n",
       "</style>\n",
       "<table border=\"1\" class=\"dataframe\">\n",
       "  <thead>\n",
       "    <tr style=\"text-align: right;\">\n",
       "      <th></th>\n",
       "      <th>Idade</th>\n",
       "      <th>Salario</th>\n",
       "      <th>Genero</th>\n",
       "      <th>Escolaridade</th>\n",
       "      <th>Score_Exame_Psicotecnico</th>\n",
       "    </tr>\n",
       "  </thead>\n",
       "  <tbody>\n",
       "    <tr>\n",
       "      <th>0</th>\n",
       "      <td>58</td>\n",
       "      <td>30404.959339</td>\n",
       "      <td>Masculino</td>\n",
       "      <td>Médio</td>\n",
       "      <td>56.0</td>\n",
       "    </tr>\n",
       "    <tr>\n",
       "      <th>1</th>\n",
       "      <td>48</td>\n",
       "      <td>20886.502401</td>\n",
       "      <td>Feminino</td>\n",
       "      <td>Médio</td>\n",
       "      <td>NaN</td>\n",
       "    </tr>\n",
       "    <tr>\n",
       "      <th>2</th>\n",
       "      <td>34</td>\n",
       "      <td>15959.388748</td>\n",
       "      <td>Masculino</td>\n",
       "      <td>Médio</td>\n",
       "      <td>57.0</td>\n",
       "    </tr>\n",
       "    <tr>\n",
       "      <th>3</th>\n",
       "      <td>62</td>\n",
       "      <td>28534.995327</td>\n",
       "      <td>Outro</td>\n",
       "      <td>Superior</td>\n",
       "      <td>68.0</td>\n",
       "    </tr>\n",
       "    <tr>\n",
       "      <th>4</th>\n",
       "      <td>27</td>\n",
       "      <td>10553.176215</td>\n",
       "      <td>Outro</td>\n",
       "      <td>Fundamental</td>\n",
       "      <td>44.0</td>\n",
       "    </tr>\n",
       "  </tbody>\n",
       "</table>\n",
       "</div>"
      ],
      "text/plain": [
       "   Idade       Salario     Genero Escolaridade  Score_Exame_Psicotecnico\n",
       "0     58  30404.959339  Masculino        Médio                      56.0\n",
       "1     48  20886.502401   Feminino        Médio                       NaN\n",
       "2     34  15959.388748  Masculino        Médio                      57.0\n",
       "3     62  28534.995327      Outro     Superior                      68.0\n",
       "4     27  10553.176215      Outro  Fundamental                      44.0"
      ]
     },
     "execution_count": 14,
     "metadata": {},
     "output_type": "execute_result"
    }
   ],
   "source": [
    "df_dsa.head()"
   ]
  },
  {
   "cell_type": "code",
   "execution_count": 15,
   "id": "6a3265c5-20aa-4d73-88b7-6e244bc3b7d2",
   "metadata": {},
   "outputs": [],
   "source": [
    "# Extraindo as colunas numéricas com List Comprehension\n",
    "colunas_selecionadas = [list(df_dsa.columns.values) [i] for i in [0, 1, 4]]"
   ]
  },
  {
   "cell_type": "code",
   "execution_count": 16,
   "id": "9d431c82-9aa7-483d-809c-a9664ba5c010",
   "metadata": {},
   "outputs": [
    {
     "data": {
      "text/plain": [
       "['Idade', 'Salario', 'Score_Exame_Psicotecnico']"
      ]
     },
     "execution_count": 16,
     "metadata": {},
     "output_type": "execute_result"
    }
   ],
   "source": [
    "colunas_selecionadas"
   ]
  },
  {
   "cell_type": "code",
   "execution_count": 17,
   "id": "1d49d23f-2e89-445e-843e-2bc28c09619a",
   "metadata": {},
   "outputs": [
    {
     "data": {
      "image/png": "[encoded data removed]",
      "text/plain": [
       "<Figure size 800x600 with 1 Axes>"
      ]
     },
     "metadata": {},
     "output_type": "display_data"
    }
   ],
   "source": [
    "# Distribuição de Idades\n",
    "plt.figure(figsize = (8, 6))\n",
    "sns.histplot(df_dsa['Idade'], kde = True)\n",
    "plt.title('Distribuição de Idades')\n",
    "plt.xlabel('Idade')\n",
    "plt.ylabel('Contagem')\n",
    "plt.show()"
   ]
  },
  {
   "cell_type": "code",
   "execution_count": 18,
   "id": "dd1eded7-aaa8-4812-b6f2-74b6799a0edb",
   "metadata": {},
   "outputs": [
    {
     "data": {
      "image/png": "[encoded data removed]",
      "text/plain": [
       "<Figure size 800x600 with 1 Axes>"
      ]
     },
     "metadata": {},
     "output_type": "display_data"
    }
   ],
   "source": [
    "# Distribuição de Salários\n",
    "plt.figure(figsize = (8, 6))\n",
    "sns.histplot(df_dsa['Salario'], kde = True)\n",
    "plt.title('Distribuição de Salários')\n",
    "plt.xlabel('Salário')\n",
    "plt.ylabel('Contagem')\n",
    "plt.show()"
   ]
  },
  {
   "cell_type": "code",
   "execution_count": 19,
   "id": "4d815c76-6b3d-4fc9-8919-ab11a8218968",
   "metadata": {},
   "outputs": [
    {
     "data": {
      "image/png": "[encoded data removed]",
      "text/plain": [
       "<Figure size 800x600 with 1 Axes>"
      ]
     },
     "metadata": {},
     "output_type": "display_data"
    }
   ],
   "source": [
    "# Distribuição de Scores\n",
    "plt.figure(figsize = (8, 6))\n",
    "sns.histplot(df_dsa['Score_Exame_Psicotecnico'], kde = True)\n",
    "plt.title('Distribuição de Scores')\n",
    "plt.xlabel('Score')\n",
    "plt.ylabel('Contagem')\n",
    "plt.show()"
   ]
  },
  {
   "cell_type": "markdown",
   "id": "a70912d9-3762-433e-8fff-0202706fd117",
   "metadata": {},
   "source": [
    "## Visualizando a Distribuição das Variáveis Qualitativas"
   ]
  },
  {
   "cell_type": "code",
   "execution_count": 20,
   "id": "9a49c5f0-ff18-4540-8466-5855e520e916",
   "metadata": {},
   "outputs": [
    {
     "data": {
      "image/png": "[encoded data removed]",
      "text/plain": [
       "<Figure size 800x600 with 1 Axes>"
      ]
     },
     "metadata": {},
     "output_type": "display_data"
    }
   ],
   "source": [
    "# Distribuição de Gênero\n",
    "plt.figure(figsize = (8, 6))\n",
    "sns.countplot(data = df_dsa, x = 'Genero')\n",
    "plt.title('Distribuição de Gênero')\n",
    "plt.xlabel('Gênero')\n",
    "plt.ylabel('Contagem')\n",
    "plt.show()"
   ]
  },
  {
   "cell_type": "code",
   "execution_count": 21,
   "id": "da47d51c-ce9d-46f1-867d-f9f1c43a7d33",
   "metadata": {},
   "outputs": [
    {
     "data": {
      "image/png": "[encoded data removed]",
      "text/plain": [
       "<Figure size 800x600 with 1 Axes>"
      ]
     },
     "metadata": {},
     "output_type": "display_data"
    }
   ],
   "source": [
    "# Distribuição de Escolaridade\n",
    "plt.figure(figsize = (8, 6))\n",
    "sns.countplot(data = df_dsa, x = 'Escolaridade', order = ['Fundamental', 'Médio', 'Superior'])\n",
    "plt.title('Distribuição de Escolaridade')\n",
    "plt.xlabel('Escolaridade')\n",
    "plt.ylabel('Contagem')\n",
    "plt.show()"
   ]
  },
  {
   "cell_type": "markdown",
   "id": "63657210-6c39-4783-bdd8-1427030c23df",
   "metadata": {},
   "source": [
    "## Correlação Entre Variáveis Quantitativas"
   ]
  },
  {
   "cell_type": "markdown",
   "id": "3a0af398-86d1-4818-8e73-773575b72367",
   "metadata": {},
   "source": [
    "A correlação entre as variáveis quantitativas nos permite entender como uma variável se move em relação à outra. O método mais comum para calcular a correlação entre variáveis é usando o coeficiente de correlação de Pearson, que varia entre -1 e 1. \n",
    "\n",
    "- Quanto mais próximo de 1, mais forte é a correlação positiva.\n",
    "- Quanto mais próximo de -1, mais forte é a correlação negativa. \n",
    "- Próximo de 0 indica pouca ou nenhuma correlação.\n",
    "\n",
    "Vamos calcular a matriz de correlação e depois visualizá-la em um mapa de calor:"
   ]
  },
  {
   "cell_type": "code",
   "execution_count": 22,
   "id": "29453b05-0965-443f-b0bb-986f4f4ac83f",
   "metadata": {},
   "outputs": [],
   "source": [
    "# Calculadno a matriz de correlação apenas para as variáveis quantitativas\n",
    "correlation_matrix = df_dsa[['Idade', 'Salario', 'Score_Exame_Psicotecnico']].corr()"
   ]
  },
  {
   "cell_type": "code",
   "execution_count": 23,
   "id": "d9613661-b434-4b6c-98e0-db4639e9820b",
   "metadata": {},
   "outputs": [
    {
     "data": {
      "image/png": "[encoded data removed]",
      "text/plain": [
       "<Figure size 800x800 with 2 Axes>"
      ]
     },
     "metadata": {},
     "output_type": "display_data"
    }
   ],
   "source": [
    "# Visualizando a matriz de correlação com um heatmao\n",
    "plt.figure(figsize = (8, 8))\n",
    "sns.heatmap(correlation_matrix, annot = True, cmap = 'coolwarm', vmin = -1, vmax = 1)\n",
    "plt.title('Correlação entre variáveis quantitativas')\n",
    "plt.show()"
   ]
  },
  {
   "cell_type": "markdown",
   "id": "ddb81558-6676-404c-b1ef-0a2c496f7870",
   "metadata": {},
   "source": [
    "### Associação Entre Variáveis Qualitativas\n",
    "\n",
    "Para variáveis categóricas usamos associação (e não correlação) para analisar a relação entre as variáveis. Vejamos algumas técnicas de associação."
   ]
  },
  {
   "cell_type": "markdown",
   "id": "861cc95c-55b8-40d4-aafb-4d157e8d503d",
   "metadata": {},
   "source": [
    "**Tabela de Contingência**: É basicamente uma tabela cruzada (crosstab) que mostra a frequência (ou contagem) de observações em cada categoria para duas variáveis."
   ]
  },
  {
   "cell_type": "code",
   "execution_count": 24,
   "id": "7c6b59aa-f16f-48da-b004-2293d7b103f0",
   "metadata": {},
   "outputs": [],
   "source": [
    "# Tabela de Contingência\n",
    "tabela_contingencia = pd.crosstab(df_dsa['Genero'], df_dsa['Escolaridade'])"
   ]
  },
  {
   "cell_type": "code",
   "execution_count": 25,
   "id": "e294e89f-6f8b-4f2e-a53f-90d34c9d24a0",
   "metadata": {},
   "outputs": [
    {
     "name": "stdout",
     "output_type": "stream",
     "text": [
      "Escolaridade  Fundamental  Médio  Superior\n",
      "Genero                                    \n",
      "Feminino               31     90        48\n",
      "Masculino              32     95        39\n",
      "Outro                  35     89        41\n"
     ]
    }
   ],
   "source": [
    "print(tabela_contingencia)"
   ]
  },
  {
   "cell_type": "markdown",
   "id": "c48afd0a-3407-484c-b38d-b1611fa0ff80",
   "metadata": {},
   "source": [
    "**Teste do Qui-quadrado (χ²)**: É usado para testar a independência entre duas variáveis categóricas. \n",
    "\n",
    "O Teste do Qui-quadrado (chi-quadrado) é uma técnica estatística que é usada para determinar se há uma associação significativa entre duas variáveis categóricas em um conjunto de dados. Existem várias hipóteses associadas ao teste do qui-quadrado:\n",
    "\n",
    "Hipótese Nula (H0): A hipótese nula afirma que não há associação significativa entre as duas variáveis categóricas no conjunto de dados. Em outras palavras, as duas variáveis são independentes uma da outra.\n",
    "\n",
    "Hipótese Alternativa (H1 ou Ha): A hipótese alternativa é a negação da hipótese nula. Ela sugere que há uma associação significativa entre as duas variáveis categóricas no conjunto de dados. Em termos simples, as duas variáveis não são independentes.\n",
    "\n",
    "Aplicamos o teste e analisamos o valor-p. Se o valor-p for menor que um nível de significância (geralmente 0,05), podemos rejeitar a hipótese nula de que as variáveis são independentes."
   ]
  },
  {
   "cell_type": "code",
   "execution_count": 26,
   "id": "b3cbbfbc-d8dd-446c-b233-805e686868a1",
   "metadata": {},
   "outputs": [],
   "source": [
    "# Carrega a função chi2_contingency\n",
    "from scipy.stats import chi2_contingency"
   ]
  },
  {
   "cell_type": "code",
   "execution_count": 27,
   "id": "bd71c2ac-94ab-48f2-83f2-86a3d51064fc",
   "metadata": {},
   "outputs": [],
   "source": [
    "# Aplica a função chi2_contingency\n",
    "chi2, p, _, _ = chi2_contingency(tabela_contingencia)"
   ]
  },
  {
   "cell_type": "code",
   "execution_count": 28,
   "id": "c7ecf255-00ae-429a-a1ca-80ea91f1b270",
   "metadata": {},
   "outputs": [
    {
     "name": "stdout",
     "output_type": "stream",
     "text": [
      "Valor-p do teste Qui-Quadrado: 0.8300\n"
     ]
    }
   ],
   "source": [
    "print(f\"Valor-p do teste Qui-Quadrado: {p:.4f}\")"
   ]
  },
  {
   "cell_type": "markdown",
   "id": "b8295f59-b7aa-41d0-bd10-755fc6684076",
   "metadata": {},
   "source": [
    "Nesse caso falhamos em rejeitar a H0. Provavelmente as duas variáveis são independentes uma da outra."
   ]
  },
  {
   "cell_type": "markdown",
   "id": "ca60b0a8-c710-465a-b9d9-7bac00bc1f8e",
   "metadata": {},
   "source": [
    "**Coeficiente de Contingência de Cramér (V)**: Mede a força da associação entre duas variáveis nominais. Seu valor varia de 0 (sem associação) a 1 (associação perfeita). É baseado no valor do qui-quadrado."
   ]
  },
  {
   "cell_type": "code",
   "execution_count": 29,
   "id": "4a0bf0f2-886f-4c77-98eb-dde8adcaef56",
   "metadata": {},
   "outputs": [
    {
     "name": "stdout",
     "output_type": "stream",
     "text": [
      "Coeficiente de Cramér V: 0.0385\n"
     ]
    }
   ],
   "source": [
    "# Calculando o Coeficiente de Contingência de Cramér\n",
    "n = tabela_contingencia.sum().sum()\n",
    "phi2 = chi2 / n\n",
    "r, k = tabela_contingencia.shape\n",
    "cramers_v = np.sqrt(phi2 / min(r-1, k-1))\n",
    "print(f\"Coeficiente de Cramér V: {cramers_v:.4f}\")"
   ]
  },
  {
   "cell_type": "markdown",
   "id": "7c8e1442-c86d-4b20-981c-b1402783452c",
   "metadata": {},
   "source": [
    "Provavelmente não há associação entre as variáveis."
   ]
  },
  {
   "cell_type": "markdown",
   "id": "a95e9b45-8594-4909-b616-4c68560d422f",
   "metadata": {},
   "source": [
    "## Técnicas de Pré-Processamento de Dados\n",
    "\n",
    "Até aqui analisamos e exploramos os dados. Usamos o resultado desse trabalho para decidir o tipo de processamento que devemos realizar. Começaremos pelo tratamento de valores ausentes."
   ]
  },
  {
   "cell_type": "markdown",
   "id": "1ed39ad0-eb48-47da-90fb-ce617295715f",
   "metadata": {},
   "source": [
    "## Valores Duplicados"
   ]
  },
  {
   "cell_type": "code",
   "execution_count": 30,
   "id": "2e0def33-c0f5-49c2-a412-b8b973538f29",
   "metadata": {},
   "outputs": [
    {
     "data": {
      "text/html": [
       "<div>\n",
       "<style scoped>\n",
       "    .dataframe tbody tr th:only-of-type {\n",
       "        vertical-align: middle;\n",
       "    }\n",
       "\n",
       "    .dataframe tbody tr th {\n",
       "        vertical-align: top;\n",
       "    }\n",
       "\n",
       "    .dataframe thead th {\n",
       "        text-align: right;\n",
       "    }\n",
       "</style>\n",
       "<table border=\"1\" class=\"dataframe\">\n",
       "  <thead>\n",
       "    <tr style=\"text-align: right;\">\n",
       "      <th></th>\n",
       "      <th>Idade</th>\n",
       "      <th>Salario</th>\n",
       "      <th>Genero</th>\n",
       "      <th>Escolaridade</th>\n",
       "      <th>Score_Exame_Psicotecnico</th>\n",
       "    </tr>\n",
       "  </thead>\n",
       "  <tbody>\n",
       "    <tr>\n",
       "      <th>0</th>\n",
       "      <td>58</td>\n",
       "      <td>30404.959339</td>\n",
       "      <td>Masculino</td>\n",
       "      <td>Médio</td>\n",
       "      <td>56.0</td>\n",
       "    </tr>\n",
       "    <tr>\n",
       "      <th>1</th>\n",
       "      <td>48</td>\n",
       "      <td>20886.502401</td>\n",
       "      <td>Feminino</td>\n",
       "      <td>Médio</td>\n",
       "      <td>NaN</td>\n",
       "    </tr>\n",
       "    <tr>\n",
       "      <th>2</th>\n",
       "      <td>34</td>\n",
       "      <td>15959.388748</td>\n",
       "      <td>Masculino</td>\n",
       "      <td>Médio</td>\n",
       "      <td>57.0</td>\n",
       "    </tr>\n",
       "    <tr>\n",
       "      <th>3</th>\n",
       "      <td>62</td>\n",
       "      <td>28534.995327</td>\n",
       "      <td>Outro</td>\n",
       "      <td>Superior</td>\n",
       "      <td>68.0</td>\n",
       "    </tr>\n",
       "    <tr>\n",
       "      <th>4</th>\n",
       "      <td>27</td>\n",
       "      <td>10553.176215</td>\n",
       "      <td>Outro</td>\n",
       "      <td>Fundamental</td>\n",
       "      <td>44.0</td>\n",
       "    </tr>\n",
       "  </tbody>\n",
       "</table>\n",
       "</div>"
      ],
      "text/plain": [
       "   Idade       Salario     Genero Escolaridade  Score_Exame_Psicotecnico\n",
       "0     58  30404.959339  Masculino        Médio                      56.0\n",
       "1     48  20886.502401   Feminino        Médio                       NaN\n",
       "2     34  15959.388748  Masculino        Médio                      57.0\n",
       "3     62  28534.995327      Outro     Superior                      68.0\n",
       "4     27  10553.176215      Outro  Fundamental                      44.0"
      ]
     },
     "execution_count": 30,
     "metadata": {},
     "output_type": "execute_result"
    }
   ],
   "source": [
    "df_dsa.head()"
   ]
  },
  {
   "cell_type": "code",
   "execution_count": 33,
   "id": "a9560767-b8df-4e62-a436-67f342929bae",
   "metadata": {},
   "outputs": [],
   "source": [
    "# Usamos o metódo duplicated() para criar uma série de valores booleanos indicando duplicatas\n",
    "duplicadas = df_dsa.duplicated()"
   ]
  },
  {
   "cell_type": "code",
   "execution_count": 34,
   "id": "d9364330-a0c8-4f53-b4bd-8830e5a7dd18",
   "metadata": {},
   "outputs": [
    {
     "data": {
      "text/html": [
       "<div>\n",
       "<style scoped>\n",
       "    .dataframe tbody tr th:only-of-type {\n",
       "        vertical-align: middle;\n",
       "    }\n",
       "\n",
       "    .dataframe tbody tr th {\n",
       "        vertical-align: top;\n",
       "    }\n",
       "\n",
       "    .dataframe thead th {\n",
       "        text-align: right;\n",
       "    }\n",
       "</style>\n",
       "<table border=\"1\" class=\"dataframe\">\n",
       "  <thead>\n",
       "    <tr style=\"text-align: right;\">\n",
       "      <th></th>\n",
       "      <th>Idade</th>\n",
       "      <th>Salario</th>\n",
       "      <th>Genero</th>\n",
       "      <th>Escolaridade</th>\n",
       "      <th>Score_Exame_Psicotecnico</th>\n",
       "    </tr>\n",
       "  </thead>\n",
       "  <tbody>\n",
       "  </tbody>\n",
       "</table>\n",
       "</div>"
      ],
      "text/plain": [
       "Empty DataFrame\n",
       "Columns: [Idade, Salario, Genero, Escolaridade, Score_Exame_Psicotecnico]\n",
       "Index: []"
      ]
     },
     "execution_count": 34,
     "metadata": {},
     "output_type": "execute_result"
    }
   ],
   "source": [
    "# Exibe as linhas que estão duplicadas\n",
    "df_dsa[duplicadas]"
   ]
  },
  {
   "cell_type": "markdown",
   "id": "ceccd7d9-d8bd-4475-ae99-800781012596",
   "metadata": {},
   "source": [
    "Não há linhas duplicadas"
   ]
  },
  {
   "cell_type": "markdown",
   "id": "98606d37-0423-4ea5-9c77-89c1e181d9b8",
   "metadata": {},
   "source": [
    "## Valores negativos"
   ]
  },
  {
   "cell_type": "code",
   "execution_count": 36,
   "id": "d0088f55-9938-4d64-acd6-184dcc3b5462",
   "metadata": {},
   "outputs": [
    {
     "data": {
      "text/html": [
       "<div>\n",
       "<style scoped>\n",
       "    .dataframe tbody tr th:only-of-type {\n",
       "        vertical-align: middle;\n",
       "    }\n",
       "\n",
       "    .dataframe tbody tr th {\n",
       "        vertical-align: top;\n",
       "    }\n",
       "\n",
       "    .dataframe thead th {\n",
       "        text-align: right;\n",
       "    }\n",
       "</style>\n",
       "<table border=\"1\" class=\"dataframe\">\n",
       "  <thead>\n",
       "    <tr style=\"text-align: right;\">\n",
       "      <th></th>\n",
       "      <th>Idade</th>\n",
       "      <th>Salario</th>\n",
       "      <th>Genero</th>\n",
       "      <th>Escolaridade</th>\n",
       "      <th>Score_Exame_Psicotecnico</th>\n",
       "    </tr>\n",
       "  </thead>\n",
       "  <tbody>\n",
       "    <tr>\n",
       "      <th>94</th>\n",
       "      <td>20</td>\n",
       "      <td>-619.478622</td>\n",
       "      <td>Masculino</td>\n",
       "      <td>Médio</td>\n",
       "      <td>58.0</td>\n",
       "    </tr>\n",
       "    <tr>\n",
       "      <th>358</th>\n",
       "      <td>21</td>\n",
       "      <td>-2984.433215</td>\n",
       "      <td>Masculino</td>\n",
       "      <td>Médio</td>\n",
       "      <td>43.0</td>\n",
       "    </tr>\n",
       "    <tr>\n",
       "      <th>380</th>\n",
       "      <td>20</td>\n",
       "      <td>-3254.849042</td>\n",
       "      <td>Outro</td>\n",
       "      <td>Médio</td>\n",
       "      <td>50.0</td>\n",
       "    </tr>\n",
       "  </tbody>\n",
       "</table>\n",
       "</div>"
      ],
      "text/plain": [
       "     Idade      Salario     Genero Escolaridade  Score_Exame_Psicotecnico\n",
       "94      20  -619.478622  Masculino        Médio                      58.0\n",
       "358     21 -2984.433215  Masculino        Médio                      43.0\n",
       "380     20 -3254.849042      Outro        Médio                      50.0"
      ]
     },
     "execution_count": 36,
     "metadata": {},
     "output_type": "execute_result"
    }
   ],
   "source": [
    "# Verificamos valores negativos na coluna Salário\n",
    "df_dsa[df_dsa['Salario'] < 0]"
   ]
  },
  {
   "cell_type": "markdown",
   "id": "dfc72b72-2756-49b6-8276-4cde919a3bbc",
   "metadata": {},
   "source": [
    "Valores negativos na variável Salario serão convertidos em valores ausentes e então faremos o tratamento de valores ausentes."
   ]
  },
  {
   "cell_type": "code",
   "execution_count": 38,
   "id": "e86161df-d4c5-405f-ba77-d33daa5a90ed",
   "metadata": {},
   "outputs": [],
   "source": [
    "# Substituímos valores negativos por NaN (valores ausentes)\n",
    "df_dsa['Salario'] = df_dsa['Salario'].apply(lambda x: x if x >= 0 else None)"
   ]
  },
  {
   "cell_type": "code",
   "execution_count": 39,
   "id": "60c4eeef-245c-4114-bf0a-be9421d7185a",
   "metadata": {},
   "outputs": [
    {
     "data": {
      "text/html": [
       "<div>\n",
       "<style scoped>\n",
       "    .dataframe tbody tr th:only-of-type {\n",
       "        vertical-align: middle;\n",
       "    }\n",
       "\n",
       "    .dataframe tbody tr th {\n",
       "        vertical-align: top;\n",
       "    }\n",
       "\n",
       "    .dataframe thead th {\n",
       "        text-align: right;\n",
       "    }\n",
       "</style>\n",
       "<table border=\"1\" class=\"dataframe\">\n",
       "  <thead>\n",
       "    <tr style=\"text-align: right;\">\n",
       "      <th></th>\n",
       "      <th>Idade</th>\n",
       "      <th>Salario</th>\n",
       "      <th>Genero</th>\n",
       "      <th>Escolaridade</th>\n",
       "      <th>Score_Exame_Psicotecnico</th>\n",
       "    </tr>\n",
       "  </thead>\n",
       "  <tbody>\n",
       "  </tbody>\n",
       "</table>\n",
       "</div>"
      ],
      "text/plain": [
       "Empty DataFrame\n",
       "Columns: [Idade, Salario, Genero, Escolaridade, Score_Exame_Psicotecnico]\n",
       "Index: []"
      ]
     },
     "execution_count": 39,
     "metadata": {},
     "output_type": "execute_result"
    }
   ],
   "source": [
    "# Verificamos valores negativos na coluna Salario\n",
    "df_dsa[df_dsa['Salario'] < 0]"
   ]
  },
  {
   "cell_type": "markdown",
   "id": "7afa5d6f-1e0c-4543-b17a-4cdc4e5a8bb6",
   "metadata": {},
   "source": [
    "Agora vmaos tratar os valores ausentes"
   ]
  },
  {
   "cell_type": "markdown",
   "id": "9442ae5d-49af-4dc5-9fb2-e0dfa506d780",
   "metadata": {},
   "source": [
    "## Valores ausentes"
   ]
  },
  {
   "cell_type": "code",
   "execution_count": 40,
   "id": "395429ed-145e-4291-957a-c1becb71a3c1",
   "metadata": {},
   "outputs": [
    {
     "data": {
      "image/png": "[encoded data removed]",
      "text/plain": [
       "<Figure size 1000x600 with 1 Axes>"
      ]
     },
     "metadata": {},
     "output_type": "display_data"
    }
   ],
   "source": [
    "# Mapa de valores ausentes\n",
    "msno.matrix(df_dsa, figsize = (10, 6), sparkline = False)\n",
    "plt.show()"
   ]
  },
  {
   "cell_type": "markdown",
   "id": "76b91554-e945-4fa4-9e2d-ff4dde7cde01",
   "metadata": {},
   "source": [
    "Neste gráfico, a presença de dados é representada por barras escuras e os valores ausentes são representados por espaços em branco. O lado direito do gráfico fornece um gráfico de barras que indica a quantidade total de valores presentes para cada variável."
   ]
  },
  {
   "cell_type": "code",
   "execution_count": 41,
   "id": "3189af64-038f-4057-bccc-034919539286",
   "metadata": {},
   "outputs": [],
   "source": [
    "# Usamos o método isna() para verificar valores ausentes em cada coluna\n",
    "valores_ausentes = df_dsa.isna().sum()"
   ]
  },
  {
   "cell_type": "code",
   "execution_count": 42,
   "id": "0d1b522a-ac4c-4adf-8903-50b9e483a1cb",
   "metadata": {},
   "outputs": [
    {
     "name": "stdout",
     "output_type": "stream",
     "text": [
      "Idade                        0\n",
      "Salario                     53\n",
      "Genero                       0\n",
      "Escolaridade                 0\n",
      "Score_Exame_Psicotecnico    30\n",
      "dtype: int64\n"
     ]
    }
   ],
   "source": [
    "print(valores_ausentes)"
   ]
  },
  {
   "cell_type": "code",
   "execution_count": 43,
   "id": "691f0178-f4a6-452a-90d4-e45fedb09a5c",
   "metadata": {},
   "outputs": [],
   "source": [
    "# Calcular a porcentagem de valores ausentes em cada coluna\n",
    "porcentagem_ausentes = (df_dsa.isna().mean() * 100).round(2)"
   ]
  },
  {
   "cell_type": "code",
   "execution_count": 44,
   "id": "65a39b06-88c1-4863-9a3c-09f5878c5d51",
   "metadata": {},
   "outputs": [
    {
     "name": "stdout",
     "output_type": "stream",
     "text": [
      "Idade                        0.0\n",
      "Salario                     10.6\n",
      "Genero                       0.0\n",
      "Escolaridade                 0.0\n",
      "Score_Exame_Psicotecnico     6.0\n",
      "dtype: float64\n"
     ]
    }
   ],
   "source": [
    "print(porcentagem_ausentes)"
   ]
  },
  {
   "cell_type": "markdown",
   "id": "a12f8d79-24c4-4089-8dea-08079246b31e",
   "metadata": {},
   "source": [
    "### Estratégias de Tratamento de Valores Ausentes\n",
    "\n",
    "Quando você tem uma variável com valores ausentes, como nesse caso em que a variável \"salario\" tem 10% de valores ausentes, existem várias estratégias que você pode considerar para lidar com esses valores ausentes. A escolha da estratégia depende do contexto dos seus dados e do objetivo da análise. Algumas das estratégias comuns incluem:\n",
    "\n",
    "**Remoção de linhas**: Você pode optar por remover as linhas que contêm valores ausentes na coluna \"salario\". Isso é apropriado se a quantidade de dados faltantes for pequena em relação ao tamanho total do conjunto de dados e se a remoção não introduzir viés nos seus resultados. No entanto, essa estratégia pode levar à perda de informações.\n",
    "\n",
    "**Preenchimento com um valor padrão**: Dependendo do contexto, você pode optar por preencher os valores ausentes com um valor padrão, como a média, a mediana ou um valor específico. Isso pode ser apropriado se você acredita que os valores ausentes não são críticos e que um valor padrão não afetará significativamente a análise.\n",
    "\n",
    "**Preenchimento com base em outras variáveis**: Às vezes, você pode usar informações de outras variáveis do dataset para preencher os valores ausentes de \"salario\". Por exemplo, você pode preencher com a média dos salários de pessoas com a mesma escolaridade ou o mesmo gênero.\n",
    "\n",
    "**Modelo de previsão**: Se a variável \"salario\" for importante e os valores ausentes não puderem ser facilmente preenchidos com médias ou valores padrão, você pode criar um modelo preditivo para estimar os valores ausentes com base em outras variáveis relevantes. Isso é mais complexo, mas pode ser uma abordagem poderosa se você tiver dados suficientes e a variável \"salario\" for fundamental para sua análise."
   ]
  },
  {
   "cell_type": "markdown",
   "id": "efdf1ec1-c593-49ff-bb69-637441bd0eff",
   "metadata": {},
   "source": [
    "### Teste de Normalidade Para Decidir a Estratégia de Tratamento de Valores Ausentes\n",
    "\n",
    "Para preencher os valores ausentes com a média devemos verificar se a variável segue uma distribuição normal. Se a variável seguir uma distribuição normal, podemos usar a média ou a mediana. Caso contrário devemos usar a mediana."
   ]
  },
  {
   "cell_type": "code",
   "execution_count": 51,
   "id": "fb4735f1-6b42-4626-8722-751c353affd5",
   "metadata": {},
   "outputs": [
    {
     "name": "stdout",
     "output_type": "stream",
     "text": [
      "Estastística de teste: nan\n",
      "Valor-p: nan\n",
      "A hipótese nula é rejeitada (os dados não seguem uma distribuição normal).\n"
     ]
    }
   ],
   "source": [
    "from scipy import stats\n",
    "\n",
    "# Extraia a coluna 'Salário' em uma série\n",
    "salario = df_dsa['Salario']\n",
    "\n",
    "# Aplique o teste de Shapiro-Wilk\n",
    "stat, p_valor = stats.shapiro(salario)\n",
    "\n",
    "# Imprima o resultado do teste\n",
    "print(f\"Estastística de teste: {stat}\")\n",
    "print(f\"Valor-p: {p_valor}\")\n",
    "\n",
    "# Verifica a hipótese nula com base no p-valor\n",
    "alfa = 0.05 # Nível de significância\n",
    "if p_valor > alfa:\n",
    "    print(\"Não há evidências para rejeitar a hipótese nula (os dados parecem seguir uma distribuição normal).\")\n",
    "else:\n",
    "    print(\"A hipótese nula é rejeitada (os dados não seguem uma distribuição normal).\")"
   ]
  },
  {
   "cell_type": "markdown",
   "id": "b09b414f-cb38-4eb9-8acb-20402fd570b9",
   "metadata": {},
   "source": [
    "> Podemos então usar a média e preencher os valores ausentes. Essa técnica é chamada de imputação."
   ]
  },
  {
   "cell_type": "markdown",
   "id": "bd2cc435-f2bf-490b-a82f-bd6c8673fdb0",
   "metadata": {},
   "source": [
    "### Imputação para Tratamento de Valores Ausentes"
   ]
  },
  {
   "cell_type": "code",
   "execution_count": 49,
   "id": "3f5b6900-325c-4555-b1e8-b9c89e7d7e78",
   "metadata": {},
   "outputs": [],
   "source": [
    "# Calculamos a média da variável \"Salario\" (ignorando os valores ausentes)\n",
    "media_salario = df_dsa['Salario'].mean()"
   ]
  },
  {
   "cell_type": "code",
   "execution_count": 52,
   "id": "88099d07-654a-469b-8ad7-ca03a020172c",
   "metadata": {},
   "outputs": [],
   "source": [
    "# Preenchemos os valores ausentes em \"salario\" com a média\n",
    "df_dsa['Salario'].fillna(media_salario, inplace = True)"
   ]
  },
  {
   "cell_type": "code",
   "execution_count": 53,
   "id": "a624963e-74dc-4c33-89fc-a517b291c3f3",
   "metadata": {},
   "outputs": [
    {
     "name": "stdout",
     "output_type": "stream",
     "text": [
      "Idade                        0\n",
      "Salario                      0\n",
      "Genero                       0\n",
      "Escolaridade                 0\n",
      "Score_Exame_Psicotecnico    30\n",
      "dtype: int64\n"
     ]
    }
   ],
   "source": [
    "# Usamos o método isna() para verificar valores ausentes em cada coluna\n",
    "valores_ausentes = df_dsa.isna().sum()\n",
    "print(valores_ausentes)"
   ]
  },
  {
   "cell_type": "code",
   "execution_count": 54,
   "id": "109ae286-8560-4a7d-8e98-5e3c95c66c71",
   "metadata": {},
   "outputs": [
    {
     "name": "stdout",
     "output_type": "stream",
     "text": [
      "Estatística de teste: nan\n",
      "Valor-p: nan\n",
      "A hipótese nula é rejeitada (os dados não seguem uma distribuição normal).\n"
     ]
    }
   ],
   "source": [
    "from scipy import stats\n",
    "\n",
    "# Extraia a coluna \"salario\" em uma série\n",
    "score_exame = df_dsa['Score_Exame_Psicotecnico']\n",
    "\n",
    "# Aplique o teste de Shapiro-Wilk\n",
    "stat, p_valor = stats.shapiro(score_exame)\n",
    "\n",
    "# Imprima o resultado do teste\n",
    "print(f\"Estatística de teste: {stat}\")\n",
    "print(f\"Valor-p: {p_valor}\")\n",
    "\n",
    "# Verifique a hipótese nula com base no p-valor\n",
    "alfa = 0.05  # Nível de significância\n",
    "if p_valor > alfa:\n",
    "    print(\"Não há evidências para rejeitar a hipótese nula (os dados parecem seguir uma distribuição normal).\")\n",
    "else:\n",
    "    print(\"A hipótese nula é rejeitada (os dados não seguem uma distribuição normal).\")"
   ]
  },
  {
   "cell_type": "code",
   "execution_count": 55,
   "id": "3bc1438a-f594-4634-b938-971639a3c521",
   "metadata": {},
   "outputs": [],
   "source": [
    "# Calculamos a média da variável \"Salario\" (ignorando os valores ausentes)\n",
    "media_score = df_dsa['Score_Exame_Psicotecnico'].mean()"
   ]
  },
  {
   "cell_type": "code",
   "execution_count": 56,
   "id": "8ebf9b8b-0e4f-491b-b719-c80fd36865a7",
   "metadata": {},
   "outputs": [],
   "source": [
    "# Preenchemos os valores ausentes em \"salario\" com a média\n",
    "df_dsa['Score_Exame_Psicotecnico'].fillna(media_score, inplace = True)"
   ]
  },
  {
   "cell_type": "code",
   "execution_count": 57,
   "id": "d9ae6001-d10a-4c38-b2f0-fdb0d0fe5c69",
   "metadata": {},
   "outputs": [
    {
     "name": "stdout",
     "output_type": "stream",
     "text": [
      "Idade                       0\n",
      "Salario                     0\n",
      "Genero                      0\n",
      "Escolaridade                0\n",
      "Score_Exame_Psicotecnico    0\n",
      "dtype: int64\n"
     ]
    }
   ],
   "source": [
    "# Usamos o método isna() para verificar valores ausentes em cada coluna\n",
    "valores_ausentes = df_dsa.isna().sum()\n",
    "print(valores_ausentes)"
   ]
  },
  {
   "cell_type": "markdown",
   "id": "2ac97521-7fae-4f5f-97a1-fa7aab032404",
   "metadata": {},
   "source": [
    "> Vimos que há correlação entre Idade e Salário. Mas se mudarmos a variável Idade para Faixa_Etaria, essa relação se confirma?"
   ]
  },
  {
   "cell_type": "markdown",
   "id": "7e877e0e-0c5e-4450-85de-6f63f2f9921c",
   "metadata": {},
   "source": [
    "### Teste Estatístico de Relação Entre Variável Quantitativa e Qualitativa"
   ]
  },
  {
   "cell_type": "code",
   "execution_count": 58,
   "id": "b4899bd1-846f-43e5-8b48-1eaabe20cda4",
   "metadata": {},
   "outputs": [],
   "source": [
    "# Definimos as faixas etárias desejadas em ordem crescente\n",
    "faixas_etarias = [0, 25, 35, 45, 55, float('inf')]"
   ]
  },
  {
   "cell_type": "code",
   "execution_count": 59,
   "id": "c8859323-360c-437f-9b39-f94c24a63cd5",
   "metadata": {},
   "outputs": [],
   "source": [
    "# Definimos os rótulos para as faixas etárias\n",
    "rotulos_faixas = [\"Menos de 25\", \"25-34\", \"35-44\", \"45-54\", \"55 ou mais\"]"
   ]
  },
  {
   "cell_type": "code",
   "execution_count": 60,
   "id": "abfc3340-d967-4fa0-b0a5-439e8e108eff",
   "metadata": {},
   "outputs": [],
   "source": [
    "# Usamos a função pd.cut() para criar a variável de faixa etária\n",
    "df_dsa['Faixa_Etaria'] = pd.cut(df_dsa['Idade'], bins = faixas_etarias, labels = rotulos_faixas)"
   ]
  },
  {
   "cell_type": "code",
   "execution_count": 61,
   "id": "e9e06d6b-574e-4d89-b0d1-e77bbe6611e1",
   "metadata": {},
   "outputs": [
    {
     "data": {
      "text/html": [
       "<div>\n",
       "<style scoped>\n",
       "    .dataframe tbody tr th:only-of-type {\n",
       "        vertical-align: middle;\n",
       "    }\n",
       "\n",
       "    .dataframe tbody tr th {\n",
       "        vertical-align: top;\n",
       "    }\n",
       "\n",
       "    .dataframe thead th {\n",
       "        text-align: right;\n",
       "    }\n",
       "</style>\n",
       "<table border=\"1\" class=\"dataframe\">\n",
       "  <thead>\n",
       "    <tr style=\"text-align: right;\">\n",
       "      <th></th>\n",
       "      <th>Idade</th>\n",
       "      <th>Salario</th>\n",
       "      <th>Genero</th>\n",
       "      <th>Escolaridade</th>\n",
       "      <th>Score_Exame_Psicotecnico</th>\n",
       "      <th>Faixa_Etaria</th>\n",
       "    </tr>\n",
       "  </thead>\n",
       "  <tbody>\n",
       "    <tr>\n",
       "      <th>0</th>\n",
       "      <td>58</td>\n",
       "      <td>30404.959339</td>\n",
       "      <td>Masculino</td>\n",
       "      <td>Médio</td>\n",
       "      <td>56.000000</td>\n",
       "      <td>55 ou mais</td>\n",
       "    </tr>\n",
       "    <tr>\n",
       "      <th>1</th>\n",
       "      <td>48</td>\n",
       "      <td>20886.502401</td>\n",
       "      <td>Feminino</td>\n",
       "      <td>Médio</td>\n",
       "      <td>61.565957</td>\n",
       "      <td>45-54</td>\n",
       "    </tr>\n",
       "    <tr>\n",
       "      <th>2</th>\n",
       "      <td>34</td>\n",
       "      <td>15959.388748</td>\n",
       "      <td>Masculino</td>\n",
       "      <td>Médio</td>\n",
       "      <td>57.000000</td>\n",
       "      <td>25-34</td>\n",
       "    </tr>\n",
       "    <tr>\n",
       "      <th>3</th>\n",
       "      <td>62</td>\n",
       "      <td>28534.995327</td>\n",
       "      <td>Outro</td>\n",
       "      <td>Superior</td>\n",
       "      <td>68.000000</td>\n",
       "      <td>55 ou mais</td>\n",
       "    </tr>\n",
       "    <tr>\n",
       "      <th>4</th>\n",
       "      <td>27</td>\n",
       "      <td>10553.176215</td>\n",
       "      <td>Outro</td>\n",
       "      <td>Fundamental</td>\n",
       "      <td>44.000000</td>\n",
       "      <td>25-34</td>\n",
       "    </tr>\n",
       "  </tbody>\n",
       "</table>\n",
       "</div>"
      ],
      "text/plain": [
       "   Idade       Salario     Genero Escolaridade  Score_Exame_Psicotecnico  \\\n",
       "0     58  30404.959339  Masculino        Médio                 56.000000   \n",
       "1     48  20886.502401   Feminino        Médio                 61.565957   \n",
       "2     34  15959.388748  Masculino        Médio                 57.000000   \n",
       "3     62  28534.995327      Outro     Superior                 68.000000   \n",
       "4     27  10553.176215      Outro  Fundamental                 44.000000   \n",
       "\n",
       "  Faixa_Etaria  \n",
       "0   55 ou mais  \n",
       "1        45-54  \n",
       "2        25-34  \n",
       "3   55 ou mais  \n",
       "4        25-34  "
      ]
     },
     "execution_count": 61,
     "metadata": {},
     "output_type": "execute_result"
    }
   ],
   "source": [
    "df_dsa.head()"
   ]
  },
  {
   "cell_type": "code",
   "execution_count": 62,
   "id": "c5e95495-3abc-4813-a00d-882358aad7c6",
   "metadata": {},
   "outputs": [
    {
     "name": "stdout",
     "output_type": "stream",
     "text": [
      "<class 'pandas.core.frame.DataFrame'>\n",
      "RangeIndex: 500 entries, 0 to 499\n",
      "Data columns (total 6 columns):\n",
      " #   Column                    Non-Null Count  Dtype   \n",
      "---  ------                    --------------  -----   \n",
      " 0   Idade                     500 non-null    int64   \n",
      " 1   Salario                   500 non-null    float64 \n",
      " 2   Genero                    500 non-null    object  \n",
      " 3   Escolaridade              500 non-null    object  \n",
      " 4   Score_Exame_Psicotecnico  500 non-null    float64 \n",
      " 5   Faixa_Etaria              500 non-null    category\n",
      "dtypes: category(1), float64(2), int64(1), object(2)\n",
      "memory usage: 20.4+ KB\n"
     ]
    }
   ],
   "source": [
    "df_dsa.info()"
   ]
  },
  {
   "cell_type": "code",
   "execution_count": 63,
   "id": "ea6b32ac-ab04-478e-b5c4-c3d7447548c6",
   "metadata": {},
   "outputs": [],
   "source": [
    "# Usamos o método drop() para remover a variável \"idade\"\n",
    "df_dsa.drop('Idade', axis = 1, inplace = True)"
   ]
  },
  {
   "cell_type": "code",
   "execution_count": 64,
   "id": "c3f6b692-0c83-47f6-bd25-199cc0ca52d3",
   "metadata": {},
   "outputs": [
    {
     "data": {
      "text/html": [
       "<div>\n",
       "<style scoped>\n",
       "    .dataframe tbody tr th:only-of-type {\n",
       "        vertical-align: middle;\n",
       "    }\n",
       "\n",
       "    .dataframe tbody tr th {\n",
       "        vertical-align: top;\n",
       "    }\n",
       "\n",
       "    .dataframe thead th {\n",
       "        text-align: right;\n",
       "    }\n",
       "</style>\n",
       "<table border=\"1\" class=\"dataframe\">\n",
       "  <thead>\n",
       "    <tr style=\"text-align: right;\">\n",
       "      <th></th>\n",
       "      <th>Salario</th>\n",
       "      <th>Genero</th>\n",
       "      <th>Escolaridade</th>\n",
       "      <th>Score_Exame_Psicotecnico</th>\n",
       "      <th>Faixa_Etaria</th>\n",
       "    </tr>\n",
       "  </thead>\n",
       "  <tbody>\n",
       "    <tr>\n",
       "      <th>0</th>\n",
       "      <td>30404.959339</td>\n",
       "      <td>Masculino</td>\n",
       "      <td>Médio</td>\n",
       "      <td>56.000000</td>\n",
       "      <td>55 ou mais</td>\n",
       "    </tr>\n",
       "    <tr>\n",
       "      <th>1</th>\n",
       "      <td>20886.502401</td>\n",
       "      <td>Feminino</td>\n",
       "      <td>Médio</td>\n",
       "      <td>61.565957</td>\n",
       "      <td>45-54</td>\n",
       "    </tr>\n",
       "    <tr>\n",
       "      <th>2</th>\n",
       "      <td>15959.388748</td>\n",
       "      <td>Masculino</td>\n",
       "      <td>Médio</td>\n",
       "      <td>57.000000</td>\n",
       "      <td>25-34</td>\n",
       "    </tr>\n",
       "    <tr>\n",
       "      <th>3</th>\n",
       "      <td>28534.995327</td>\n",
       "      <td>Outro</td>\n",
       "      <td>Superior</td>\n",
       "      <td>68.000000</td>\n",
       "      <td>55 ou mais</td>\n",
       "    </tr>\n",
       "    <tr>\n",
       "      <th>4</th>\n",
       "      <td>10553.176215</td>\n",
       "      <td>Outro</td>\n",
       "      <td>Fundamental</td>\n",
       "      <td>44.000000</td>\n",
       "      <td>25-34</td>\n",
       "    </tr>\n",
       "  </tbody>\n",
       "</table>\n",
       "</div>"
      ],
      "text/plain": [
       "        Salario     Genero Escolaridade  Score_Exame_Psicotecnico Faixa_Etaria\n",
       "0  30404.959339  Masculino        Médio                 56.000000   55 ou mais\n",
       "1  20886.502401   Feminino        Médio                 61.565957        45-54\n",
       "2  15959.388748  Masculino        Médio                 57.000000        25-34\n",
       "3  28534.995327      Outro     Superior                 68.000000   55 ou mais\n",
       "4  10553.176215      Outro  Fundamental                 44.000000        25-34"
      ]
     },
     "execution_count": 64,
     "metadata": {},
     "output_type": "execute_result"
    }
   ],
   "source": [
    "df_dsa.head()"
   ]
  },
  {
   "cell_type": "code",
   "execution_count": 65,
   "id": "c8270660-3182-45af-94be-6144dd59d3fe",
   "metadata": {},
   "outputs": [],
   "source": [
    "# Arredondamos as colunas \"Salario\" e \"Score_Exame_Psicotecnico\" para inteiros\n",
    "df_dsa['Salario'] = df_dsa['Salario'].round().astype(int)\n",
    "df_dsa['Score_Exame_Psicotecnico'] = df_dsa['Score_Exame_Psicotecnico'].round().astype(int)"
   ]
  },
  {
   "cell_type": "code",
   "execution_count": 66,
   "id": "f5daf493-3ccb-4239-861c-01c9a4e54b40",
   "metadata": {},
   "outputs": [
    {
     "data": {
      "text/html": [
       "<div>\n",
       "<style scoped>\n",
       "    .dataframe tbody tr th:only-of-type {\n",
       "        vertical-align: middle;\n",
       "    }\n",
       "\n",
       "    .dataframe tbody tr th {\n",
       "        vertical-align: top;\n",
       "    }\n",
       "\n",
       "    .dataframe thead th {\n",
       "        text-align: right;\n",
       "    }\n",
       "</style>\n",
       "<table border=\"1\" class=\"dataframe\">\n",
       "  <thead>\n",
       "    <tr style=\"text-align: right;\">\n",
       "      <th></th>\n",
       "      <th>Salario</th>\n",
       "      <th>Genero</th>\n",
       "      <th>Escolaridade</th>\n",
       "      <th>Score_Exame_Psicotecnico</th>\n",
       "      <th>Faixa_Etaria</th>\n",
       "    </tr>\n",
       "  </thead>\n",
       "  <tbody>\n",
       "    <tr>\n",
       "      <th>0</th>\n",
       "      <td>30405</td>\n",
       "      <td>Masculino</td>\n",
       "      <td>Médio</td>\n",
       "      <td>56</td>\n",
       "      <td>55 ou mais</td>\n",
       "    </tr>\n",
       "    <tr>\n",
       "      <th>1</th>\n",
       "      <td>20887</td>\n",
       "      <td>Feminino</td>\n",
       "      <td>Médio</td>\n",
       "      <td>62</td>\n",
       "      <td>45-54</td>\n",
       "    </tr>\n",
       "    <tr>\n",
       "      <th>2</th>\n",
       "      <td>15959</td>\n",
       "      <td>Masculino</td>\n",
       "      <td>Médio</td>\n",
       "      <td>57</td>\n",
       "      <td>25-34</td>\n",
       "    </tr>\n",
       "    <tr>\n",
       "      <th>3</th>\n",
       "      <td>28535</td>\n",
       "      <td>Outro</td>\n",
       "      <td>Superior</td>\n",
       "      <td>68</td>\n",
       "      <td>55 ou mais</td>\n",
       "    </tr>\n",
       "    <tr>\n",
       "      <th>4</th>\n",
       "      <td>10553</td>\n",
       "      <td>Outro</td>\n",
       "      <td>Fundamental</td>\n",
       "      <td>44</td>\n",
       "      <td>25-34</td>\n",
       "    </tr>\n",
       "  </tbody>\n",
       "</table>\n",
       "</div>"
      ],
      "text/plain": [
       "   Salario     Genero Escolaridade  Score_Exame_Psicotecnico Faixa_Etaria\n",
       "0    30405  Masculino        Médio                        56   55 ou mais\n",
       "1    20887   Feminino        Médio                        62        45-54\n",
       "2    15959  Masculino        Médio                        57        25-34\n",
       "3    28535      Outro     Superior                        68   55 ou mais\n",
       "4    10553      Outro  Fundamental                        44        25-34"
      ]
     },
     "execution_count": 66,
     "metadata": {},
     "output_type": "execute_result"
    }
   ],
   "source": [
    "df_dsa.head()"
   ]
  },
  {
   "cell_type": "code",
   "execution_count": 67,
   "id": "55e76270-0495-4fd6-8bef-2931244ff076",
   "metadata": {},
   "outputs": [
    {
     "data": {
      "text/html": [
       "<div>\n",
       "<style scoped>\n",
       "    .dataframe tbody tr th:only-of-type {\n",
       "        vertical-align: middle;\n",
       "    }\n",
       "\n",
       "    .dataframe tbody tr th {\n",
       "        vertical-align: top;\n",
       "    }\n",
       "\n",
       "    .dataframe thead th {\n",
       "        text-align: right;\n",
       "    }\n",
       "</style>\n",
       "<table border=\"1\" class=\"dataframe\">\n",
       "  <thead>\n",
       "    <tr style=\"text-align: right;\">\n",
       "      <th></th>\n",
       "      <th>Salario</th>\n",
       "      <th>Score_Exame_Psicotecnico</th>\n",
       "    </tr>\n",
       "  </thead>\n",
       "  <tbody>\n",
       "    <tr>\n",
       "      <th>count</th>\n",
       "      <td>500.00000</td>\n",
       "      <td>500.000000</td>\n",
       "    </tr>\n",
       "    <tr>\n",
       "      <th>mean</th>\n",
       "      <td>21410.79200</td>\n",
       "      <td>61.592000</td>\n",
       "    </tr>\n",
       "    <tr>\n",
       "      <th>std</th>\n",
       "      <td>7679.06567</td>\n",
       "      <td>17.123667</td>\n",
       "    </tr>\n",
       "    <tr>\n",
       "      <th>min</th>\n",
       "      <td>642.00000</td>\n",
       "      <td>20.000000</td>\n",
       "    </tr>\n",
       "    <tr>\n",
       "      <th>25%</th>\n",
       "      <td>15888.75000</td>\n",
       "      <td>49.000000</td>\n",
       "    </tr>\n",
       "    <tr>\n",
       "      <th>50%</th>\n",
       "      <td>21411.00000</td>\n",
       "      <td>62.000000</td>\n",
       "    </tr>\n",
       "    <tr>\n",
       "      <th>75%</th>\n",
       "      <td>26729.00000</td>\n",
       "      <td>73.250000</td>\n",
       "    </tr>\n",
       "    <tr>\n",
       "      <th>max</th>\n",
       "      <td>40845.00000</td>\n",
       "      <td>100.000000</td>\n",
       "    </tr>\n",
       "  </tbody>\n",
       "</table>\n",
       "</div>"
      ],
      "text/plain": [
       "           Salario  Score_Exame_Psicotecnico\n",
       "count    500.00000                500.000000\n",
       "mean   21410.79200                 61.592000\n",
       "std     7679.06567                 17.123667\n",
       "min      642.00000                 20.000000\n",
       "25%    15888.75000                 49.000000\n",
       "50%    21411.00000                 62.000000\n",
       "75%    26729.00000                 73.250000\n",
       "max    40845.00000                100.000000"
      ]
     },
     "execution_count": 67,
     "metadata": {},
     "output_type": "execute_result"
    }
   ],
   "source": [
    "df_dsa.describe()"
   ]
  },
  {
   "cell_type": "code",
   "execution_count": 68,
   "id": "354e45d9-d75e-4e14-9f6b-2e21212ebebb",
   "metadata": {},
   "outputs": [
    {
     "name": "stderr",
     "output_type": "stream",
     "text": [
      "C:\\Users\\Felic\\AppData\\Local\\Temp\\ipykernel_8788\\4216115612.py:2: FutureWarning: The default of observed=False is deprecated and will be changed to True in a future version of pandas. Pass observed=False to retain current behavior or observed=True to adopt the future default and silence this warning.\n",
      "  media_salario_por_faixa_etaria = df_dsa.groupby('Faixa_Etaria')['Salario'].mean()\n"
     ]
    },
    {
     "data": {
      "text/plain": [
       "Faixa_Etaria\n",
       "Menos de 25    13108.633803\n",
       "25-34          14945.184783\n",
       "35-44          20980.654545\n",
       "45-54          24736.491935\n",
       "55 ou mais     29364.359223\n",
       "Name: Salario, dtype: float64"
      ]
     },
     "execution_count": 68,
     "metadata": {},
     "output_type": "execute_result"
    }
   ],
   "source": [
    "# Média de salário por faixa etária\n",
    "media_salario_por_faixa_etaria = df_dsa.groupby('Faixa_Etaria')['Salario'].mean()\n",
    "media_salario_por_faixa_etaria"
   ]
  },
  {
   "cell_type": "code",
   "execution_count": 69,
   "id": "3346d3c6-4eb6-4f9c-bf4d-c3d5a0606d3b",
   "metadata": {},
   "outputs": [
    {
     "name": "stderr",
     "output_type": "stream",
     "text": [
      "C:\\Users\\Felic\\AppData\\Local\\Temp\\ipykernel_8788\\2159800131.py:2: FutureWarning: The default of observed=False is deprecated and will be changed to True in a future version of pandas. Pass observed=False to retain current behavior or observed=True to adopt the future default and silence this warning.\n",
      "  mediana_salario_por_faixa_etaria = df_dsa.groupby('Faixa_Etaria')['Salario'].median()\n"
     ]
    },
    {
     "data": {
      "text/plain": [
       "Faixa_Etaria\n",
       "Menos de 25    12433.0\n",
       "25-34          15387.5\n",
       "35-44          21411.0\n",
       "45-54          24283.0\n",
       "55 ou mais     29345.0\n",
       "Name: Salario, dtype: float64"
      ]
     },
     "execution_count": 69,
     "metadata": {},
     "output_type": "execute_result"
    }
   ],
   "source": [
    "# Mediana de salário por faixa etária\n",
    "mediana_salario_por_faixa_etaria = df_dsa.groupby('Faixa_Etaria')['Salario'].median()\n",
    "mediana_salario_por_faixa_etaria"
   ]
  },
  {
   "cell_type": "code",
   "execution_count": 70,
   "id": "e1b9cfe7-e909-4621-89f8-198485748a9a",
   "metadata": {},
   "outputs": [
    {
     "data": {
      "image/png": "[encoded data removed]",
      "text/plain": [
       "<Figure size 640x480 with 1 Axes>"
      ]
     },
     "metadata": {},
     "output_type": "display_data"
    }
   ],
   "source": [
    "# Boxplots\n",
    "sns.boxplot(x = 'Faixa_Etaria', y = 'Salario', data = df_dsa)\n",
    "plt.xticks(rotation = 45)\n",
    "plt.show()"
   ]
  },
  {
   "cell_type": "code",
   "execution_count": 71,
   "id": "7543a29d-9e05-4b11-b6b0-ea55aabf932d",
   "metadata": {},
   "outputs": [
    {
     "name": "stdout",
     "output_type": "stream",
     "text": [
      "Há evidências de diferenças significativas nas médias de salário entre as faixas etárias.\n"
     ]
    },
    {
     "name": "stderr",
     "output_type": "stream",
     "text": [
      "C:\\Users\\Felic\\AppData\\Local\\Temp\\ipykernel_8788\\3659232599.py:7: FutureWarning: The default of observed=False is deprecated and will be changed to True in a future version of pandas. Pass observed=False to retain current behavior or observed=True to adopt the future default and silence this warning.\n",
      "  resultado_anova = stats.f_oneway(*[grupo['Salario'] for nome, grupo in df_dsa.groupby('Faixa_Etaria')])\n"
     ]
    }
   ],
   "source": [
    "# Teste ANOVA\n",
    "\n",
    "# Import\n",
    "import scipy.stats as stats\n",
    "\n",
    "# Realize um teste de ANOVA para verificar as diferenças nas médias\n",
    "resultado_anova = stats.f_oneway(*[grupo['Salario'] for nome, grupo in df_dsa.groupby('Faixa_Etaria')])\n",
    "\n",
    "# Verifique o resultado do teste\n",
    "if resultado_anova.pvalue < 0.05:\n",
    "    print(\"Há evidências de diferenças significativas nas médias de salário entre as faixas etárias.\")\n",
    "else:\n",
    "    print(\"Não há evidências de diferenças significativas nas médias de salário entre as faixas etárias.\")"
   ]
  },
  {
   "cell_type": "markdown",
   "id": "44ba85f0-e6e2-4df1-a601-adbc328e79bb",
   "metadata": {},
   "source": [
    "> Sim, a relação realmente parece existir entre idade e salário."
   ]
  },
  {
   "cell_type": "markdown",
   "id": "55d369b6-887f-4652-980f-4e98f808d636",
   "metadata": {},
   "source": [
    "## Relatório Final"
   ]
  },
  {
   "cell_type": "markdown",
   "id": "cb1c23f1-2fb3-43fb-8e51-c63809353111",
   "metadata": {},
   "source": [
    "Com base em nossa análise observamos que:\n",
    "\n",
    "- A variável Salario apresentava valores negativos. Como não temos mais detalhes sobre isso, decidimos converter de valor negativo para valor ausente.\n",
    "- As variáveis Salario e Score_Exame_Psicotecnico apresentavam problemas de valores ausentes.\n",
    "- Tratamos os valores ausentes com a imputação da média pois as duas variáveis seguem uma distribuição normal.\n",
    "- Identificamos que não há relação entre as variáveis gênero e escolaridade, ou seja, elas são independentes.\n",
    "- Verificamos que há relação entre idade e salário, independente do valor individual da idade ou de faixa etária.\n",
    "- Nossas conclusões e decisões foram baseadas em testes estatísticos."
   ]
  },
  {
   "cell_type": "markdown",
   "id": "0a87101d-b8bb-46de-a0b7-d7b6c5aef6fd",
   "metadata": {},
   "source": [
    "# Fim!"
   ]
  }
 ],
 "metadata": {
  "kernelspec": {
   "display_name": "Python 3 (ipykernel)",
   "language": "python",
   "name": "python3"
  },
  "language_info": {
   "codemirror_mode": {
    "name": "ipython",
    "version": 3
   },
   "file_extension": ".py",
   "mimetype": "text/x-python",
   "name": "python",
   "nbconvert_exporter": "python",
   "pygments_lexer": "ipython3",
   "version": "3.11.7"
  }
 },
 "nbformat": 4,
 "nbformat_minor": 5
}
