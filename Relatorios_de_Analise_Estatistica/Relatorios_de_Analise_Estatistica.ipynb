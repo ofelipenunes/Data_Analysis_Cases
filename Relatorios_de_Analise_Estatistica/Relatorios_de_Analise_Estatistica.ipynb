{
 "cells": [
  {
   "cell_type": "markdown",
   "id": "d11f8709-20d4-4605-9ddd-39667df37976",
   "metadata": {},
   "source": [
    "# <font color='orange'>Projetos de Análise de Dados com Linguagem Python</font>\n",
    "# <font color='orange'>Projeto 9 - Relatórios de Análise Estatística com Linguagem Python</font>"
   ]
  },
  {
   "cell_type": "markdown",
   "id": "156a0785-dcd5-4719-9d8d-d76abd57fe7b",
   "metadata": {},
   "source": [
    "## Pacotes Python Usados no Projeto "
   ]
  },
  {
   "cell_type": "code",
   "execution_count": 1,
   "id": "c30ffd43-0545-4470-9214-a1250ad62524",
   "metadata": {},
   "outputs": [],
   "source": [
    "# Imports\n",
    "import numpy as np\n",
    "import pandas as pd\n",
    "import matplotlib.pyplot as plt\n",
    "import scipy.stats as st\n",
    "import warnings\n",
    "warnings.filterwarnings('ignore')"
   ]
  },
  {
   "cell_type": "markdown",
   "id": "d5e3f1bf-f6ec-45cc-8aa9-21f094322317",
   "metadata": {},
   "source": [
    "## Carregando e Compreendendo o Conjunto de Dados\n",
    "\n",
    "Veja o Dicionário de Dados no arquivo a parte."
   ]
  },
  {
   "cell_type": "code",
   "execution_count": 2,
   "id": "fd06495e-da55-4ddb-828b-d8e0d67da58f",
   "metadata": {},
   "outputs": [],
   "source": [
    "# Carrega o dataset\n",
    "df_dsa = pd.read_csv(\"dataset.csv\")"
   ]
  },
  {
   "cell_type": "code",
   "execution_count": 3,
   "id": "7f98948c-c861-45d2-bacc-09e829cd0a90",
   "metadata": {},
   "outputs": [
    {
     "data": {
      "text/plain": [
       "(500, 8)"
      ]
     },
     "execution_count": 3,
     "metadata": {},
     "output_type": "execute_result"
    }
   ],
   "source": [
    "# Shape\n",
    "df_dsa.shape"
   ]
  },
  {
   "cell_type": "code",
   "execution_count": 4,
   "id": "b6bf5671-6bc4-416b-91a8-88256b0481d9",
   "metadata": {},
   "outputs": [
    {
     "data": {
      "text/html": [
       "<div>\n",
       "<style scoped>\n",
       "    .dataframe tbody tr th:only-of-type {\n",
       "        vertical-align: middle;\n",
       "    }\n",
       "\n",
       "    .dataframe tbody tr th {\n",
       "        vertical-align: top;\n",
       "    }\n",
       "\n",
       "    .dataframe thead th {\n",
       "        text-align: right;\n",
       "    }\n",
       "</style>\n",
       "<table border=\"1\" class=\"dataframe\">\n",
       "  <thead>\n",
       "    <tr style=\"text-align: right;\">\n",
       "      <th></th>\n",
       "      <th>ID Mouse</th>\n",
       "      <th>Medicamento</th>\n",
       "      <th>Sexo</th>\n",
       "      <th>Idade_Meses</th>\n",
       "      <th>Peso (g)</th>\n",
       "      <th>Timepoint</th>\n",
       "      <th>Tumor Volume (mm3)</th>\n",
       "      <th>Sitios Metastáticos</th>\n",
       "    </tr>\n",
       "  </thead>\n",
       "  <tbody>\n",
       "    <tr>\n",
       "      <th>0</th>\n",
       "      <td>m000</td>\n",
       "      <td>Placebo</td>\n",
       "      <td>Masculino</td>\n",
       "      <td>18</td>\n",
       "      <td>21</td>\n",
       "      <td>0</td>\n",
       "      <td>45.780350</td>\n",
       "      <td>2</td>\n",
       "    </tr>\n",
       "    <tr>\n",
       "      <th>1</th>\n",
       "      <td>m000</td>\n",
       "      <td>Ramicane</td>\n",
       "      <td>Masculino</td>\n",
       "      <td>24</td>\n",
       "      <td>17</td>\n",
       "      <td>5</td>\n",
       "      <td>42.728114</td>\n",
       "      <td>0</td>\n",
       "    </tr>\n",
       "    <tr>\n",
       "      <th>2</th>\n",
       "      <td>m000</td>\n",
       "      <td>Ramicane</td>\n",
       "      <td>Feminino</td>\n",
       "      <td>19</td>\n",
       "      <td>23</td>\n",
       "      <td>10</td>\n",
       "      <td>40.827502</td>\n",
       "      <td>1</td>\n",
       "    </tr>\n",
       "    <tr>\n",
       "      <th>3</th>\n",
       "      <td>m000</td>\n",
       "      <td>Capomulin</td>\n",
       "      <td>Feminino</td>\n",
       "      <td>21</td>\n",
       "      <td>23</td>\n",
       "      <td>15</td>\n",
       "      <td>38.578206</td>\n",
       "      <td>2</td>\n",
       "    </tr>\n",
       "    <tr>\n",
       "      <th>4</th>\n",
       "      <td>m000</td>\n",
       "      <td>Infubinol</td>\n",
       "      <td>Masculino</td>\n",
       "      <td>12</td>\n",
       "      <td>17</td>\n",
       "      <td>20</td>\n",
       "      <td>35.094393</td>\n",
       "      <td>2</td>\n",
       "    </tr>\n",
       "  </tbody>\n",
       "</table>\n",
       "</div>"
      ],
      "text/plain": [
       "  ID Mouse Medicamento       Sexo  Idade_Meses  Peso (g)  Timepoint  \\\n",
       "0     m000     Placebo  Masculino           18        21          0   \n",
       "1     m000    Ramicane  Masculino           24        17          5   \n",
       "2     m000    Ramicane   Feminino           19        23         10   \n",
       "3     m000   Capomulin   Feminino           21        23         15   \n",
       "4     m000   Infubinol  Masculino           12        17         20   \n",
       "\n",
       "   Tumor Volume (mm3)  Sitios Metastáticos  \n",
       "0           45.780350                    2  \n",
       "1           42.728114                    0  \n",
       "2           40.827502                    1  \n",
       "3           38.578206                    2  \n",
       "4           35.094393                    2  "
      ]
     },
     "execution_count": 4,
     "metadata": {},
     "output_type": "execute_result"
    }
   ],
   "source": [
    "# Visualiza as 5 primeiras linhas\n",
    "df_dsa.head()"
   ]
  },
  {
   "cell_type": "markdown",
   "id": "03896178-0f6b-4bcb-b29b-a5722d62dabd",
   "metadata": {},
   "source": [
    "Tipos de Medicamento:\n",
    "\n",
    "**Placebo**: Um placebo é uma substância sem qualquer efeito terapêutico, usada como controle em experimentos. Ao administrar um placebo a um grupo de camundongos, os pesquisadores podem estabelecer uma linha de base para comparar os efeitos dos medicamentos reais. Isso ajuda a determinar se as mudanças observadas nos grupos tratados são devido ao medicamento em teste ou outros fatores externos.\n",
    "\n",
    "**Ramicane e Capomulin**: São exemplos de medicamentos reais usados frequentemente em estudos para tratar ou controlar o crescimento de tumores. Esses medicamentos podem ter mecanismos de ação específicos, como inibir o crescimento de células cancerígenas ou reduzir a inflamação que promove o crescimento do tumor.\n",
    "\n",
    "**Infubinol**: Outro tipo de medicamento que pode ser usado em estudos para avaliar sua eficácia na prevenção ou redução do crescimento de tumores em camundongos. Como os demais, sua inclusão no estudo visa testar sua eficácia e potenciais efeitos colaterais."
   ]
  },
  {
   "cell_type": "code",
   "execution_count": 5,
   "id": "1ceb0391-54ca-4f0d-af5c-e9cea1289f55",
   "metadata": {},
   "outputs": [
    {
     "name": "stdout",
     "output_type": "stream",
     "text": [
      "<class 'pandas.core.frame.DataFrame'>\n",
      "RangeIndex: 500 entries, 0 to 499\n",
      "Data columns (total 8 columns):\n",
      " #   Column               Non-Null Count  Dtype  \n",
      "---  ------               --------------  -----  \n",
      " 0   ID Mouse             500 non-null    object \n",
      " 1   Medicamento          500 non-null    object \n",
      " 2   Sexo                 500 non-null    object \n",
      " 3   Idade_Meses          500 non-null    int64  \n",
      " 4   Peso (g)             500 non-null    int64  \n",
      " 5   Timepoint            500 non-null    int64  \n",
      " 6   Tumor Volume (mm3)   500 non-null    float64\n",
      " 7   Sitios Metastáticos  500 non-null    int64  \n",
      "dtypes: float64(1), int64(4), object(3)\n",
      "memory usage: 31.4+ KB\n"
     ]
    }
   ],
   "source": [
    "# Info\n",
    "df_dsa.info()"
   ]
  },
  {
   "cell_type": "markdown",
   "id": "2aeb0bff-9acc-45bd-adc3-7f75a0d7489a",
   "metadata": {},
   "source": [
    "## Limpeza Inicial dos Dados"
   ]
  },
  {
   "cell_type": "code",
   "execution_count": 6,
   "id": "2a51cf60-8e76-421e-a0e7-b4de47cdfcf4",
   "metadata": {},
   "outputs": [
    {
     "data": {
      "text/plain": [
       "Index(['ID Mouse', 'Medicamento', 'Sexo', 'Idade_Meses', 'Peso (g)',\n",
       "       'Timepoint', 'Tumor Volume (mm3)', 'Sitios Metastáticos'],\n",
       "      dtype='object')"
      ]
     },
     "execution_count": 6,
     "metadata": {},
     "output_type": "execute_result"
    }
   ],
   "source": [
    "# Nomes das colunas\n",
    "df_dsa.columns"
   ]
  },
  {
   "cell_type": "code",
   "execution_count": 7,
   "id": "4e583249-6f18-4a54-b1b5-391f157c7f98",
   "metadata": {},
   "outputs": [
    {
     "data": {
      "text/plain": [
       "100"
      ]
     },
     "execution_count": 7,
     "metadata": {},
     "output_type": "execute_result"
    }
   ],
   "source": [
    "# Valores únicos para id do mouse\n",
    "df_dsa[\"ID Mouse\"].nunique()"
   ]
  },
  {
   "cell_type": "code",
   "execution_count": 8,
   "id": "7d5fc513-a2ca-4429-9cb2-7fc5f928bcb5",
   "metadata": {},
   "outputs": [
    {
     "data": {
      "text/plain": [
       "ID Mouse               False\n",
       "Medicamento            False\n",
       "Sexo                   False\n",
       "Idade_Meses            False\n",
       "Peso (g)               False\n",
       "Timepoint              False\n",
       "Tumor Volume (mm3)     False\n",
       "Sitios Metastáticos    False\n",
       "dtype: bool"
      ]
     },
     "execution_count": 8,
     "metadata": {},
     "output_type": "execute_result"
    }
   ],
   "source": [
    "# Verifica valores ausentes\n",
    "df_dsa.isna().any()"
   ]
  },
  {
   "cell_type": "code",
   "execution_count": 9,
   "id": "89f23096-9040-47fc-95a3-d68b45d2c026",
   "metadata": {},
   "outputs": [],
   "source": [
    "# Extrai duplicatas na combinação \"ID Mouse\" e \"Timepoint\" (se houver)\n",
    "duplicate_ID = df_dsa.loc[df_dsa.duplicated(subset = [\"ID Mouse\", \"Timepoint\"]), \"ID Mouse\"].unique()"
   ]
  },
  {
   "cell_type": "code",
   "execution_count": 10,
   "id": "62a5ebc9-d996-486d-9c13-ffe4c2ebc0a6",
   "metadata": {},
   "outputs": [],
   "source": [
    "# Se houver duplicata, removemos\n",
    "df_dsa_final = df_dsa[df_dsa[\"ID Mouse\"].isin(duplicate_ID) == False]"
   ]
  },
  {
   "cell_type": "code",
   "execution_count": 11,
   "id": "a1195722-451c-4394-8cf5-e084eeca8cdb",
   "metadata": {},
   "outputs": [
    {
     "data": {
      "text/plain": [
       "(500, 8)"
      ]
     },
     "execution_count": 11,
     "metadata": {},
     "output_type": "execute_result"
    }
   ],
   "source": [
    "# Shape\n",
    "df_dsa.shape"
   ]
  },
  {
   "cell_type": "code",
   "execution_count": 12,
   "id": "e8e98b4b-8449-410f-a072-452df45b7a54",
   "metadata": {},
   "outputs": [
    {
     "data": {
      "text/html": [
       "<div>\n",
       "<style scoped>\n",
       "    .dataframe tbody tr th:only-of-type {\n",
       "        vertical-align: middle;\n",
       "    }\n",
       "\n",
       "    .dataframe tbody tr th {\n",
       "        vertical-align: top;\n",
       "    }\n",
       "\n",
       "    .dataframe thead th {\n",
       "        text-align: right;\n",
       "    }\n",
       "</style>\n",
       "<table border=\"1\" class=\"dataframe\">\n",
       "  <thead>\n",
       "    <tr style=\"text-align: right;\">\n",
       "      <th></th>\n",
       "      <th>ID Mouse</th>\n",
       "      <th>Medicamento</th>\n",
       "      <th>Sexo</th>\n",
       "      <th>Idade_Meses</th>\n",
       "      <th>Peso (g)</th>\n",
       "      <th>Timepoint</th>\n",
       "      <th>Tumor Volume (mm3)</th>\n",
       "      <th>Sitios Metastáticos</th>\n",
       "    </tr>\n",
       "  </thead>\n",
       "  <tbody>\n",
       "    <tr>\n",
       "      <th>0</th>\n",
       "      <td>m000</td>\n",
       "      <td>Placebo</td>\n",
       "      <td>Masculino</td>\n",
       "      <td>18</td>\n",
       "      <td>21</td>\n",
       "      <td>0</td>\n",
       "      <td>45.780350</td>\n",
       "      <td>2</td>\n",
       "    </tr>\n",
       "    <tr>\n",
       "      <th>1</th>\n",
       "      <td>m000</td>\n",
       "      <td>Ramicane</td>\n",
       "      <td>Masculino</td>\n",
       "      <td>24</td>\n",
       "      <td>17</td>\n",
       "      <td>5</td>\n",
       "      <td>42.728114</td>\n",
       "      <td>0</td>\n",
       "    </tr>\n",
       "    <tr>\n",
       "      <th>2</th>\n",
       "      <td>m000</td>\n",
       "      <td>Ramicane</td>\n",
       "      <td>Feminino</td>\n",
       "      <td>19</td>\n",
       "      <td>23</td>\n",
       "      <td>10</td>\n",
       "      <td>40.827502</td>\n",
       "      <td>1</td>\n",
       "    </tr>\n",
       "    <tr>\n",
       "      <th>3</th>\n",
       "      <td>m000</td>\n",
       "      <td>Capomulin</td>\n",
       "      <td>Feminino</td>\n",
       "      <td>21</td>\n",
       "      <td>23</td>\n",
       "      <td>15</td>\n",
       "      <td>38.578206</td>\n",
       "      <td>2</td>\n",
       "    </tr>\n",
       "    <tr>\n",
       "      <th>4</th>\n",
       "      <td>m000</td>\n",
       "      <td>Infubinol</td>\n",
       "      <td>Masculino</td>\n",
       "      <td>12</td>\n",
       "      <td>17</td>\n",
       "      <td>20</td>\n",
       "      <td>35.094393</td>\n",
       "      <td>2</td>\n",
       "    </tr>\n",
       "  </tbody>\n",
       "</table>\n",
       "</div>"
      ],
      "text/plain": [
       "  ID Mouse Medicamento       Sexo  Idade_Meses  Peso (g)  Timepoint  \\\n",
       "0     m000     Placebo  Masculino           18        21          0   \n",
       "1     m000    Ramicane  Masculino           24        17          5   \n",
       "2     m000    Ramicane   Feminino           19        23         10   \n",
       "3     m000   Capomulin   Feminino           21        23         15   \n",
       "4     m000   Infubinol  Masculino           12        17         20   \n",
       "\n",
       "   Tumor Volume (mm3)  Sitios Metastáticos  \n",
       "0           45.780350                    2  \n",
       "1           42.728114                    0  \n",
       "2           40.827502                    1  \n",
       "3           38.578206                    2  \n",
       "4           35.094393                    2  "
      ]
     },
     "execution_count": 12,
     "metadata": {},
     "output_type": "execute_result"
    }
   ],
   "source": [
    "# Visualiza as 5 primeiras linhas\n",
    "df_dsa_final.head()"
   ]
  },
  {
   "cell_type": "markdown",
   "id": "343f2fd9-efdf-4db0-9eee-2c0327f64aee",
   "metadata": {},
   "source": [
    "## Sumário Estatístico"
   ]
  },
  {
   "cell_type": "code",
   "execution_count": 13,
   "id": "b8e48b53-615b-453b-9443-50914933ad39",
   "metadata": {},
   "outputs": [
    {
     "data": {
      "text/plain": [
       "Index(['ID Mouse', 'Medicamento', 'Sexo', 'Idade_Meses', 'Peso (g)',\n",
       "       'Timepoint', 'Tumor Volume (mm3)', 'Sitios Metastáticos'],\n",
       "      dtype='object')"
      ]
     },
     "execution_count": 13,
     "metadata": {},
     "output_type": "execute_result"
    }
   ],
   "source": [
    "# Nomes colunas\n",
    "df_dsa_final.columns"
   ]
  },
  {
   "cell_type": "code",
   "execution_count": 14,
   "id": "980d3e11-6f20-4a9f-b110-db5417a5002a",
   "metadata": {},
   "outputs": [],
   "source": [
    "# Agrupamento pelo Medicamento e filtro pela variável \"Tumor Volume (mm3)\"\n",
    "df_dsa_final_agrupado = df_dsa_final.groupby(\"Medicamento\")[\"Tumor Volume (mm3)\"]"
   ]
  },
  {
   "cell_type": "code",
   "execution_count": 17,
   "id": "321ea0e8-0df5-4c91-8eb9-be5d80f8180c",
   "metadata": {},
   "outputs": [],
   "source": [
    "# Agora calculamos as estatísticas da variável \"Tumor Volume (mm3)\"\n",
    "media = df_dsa_final_agrupado.mean()\n",
    "mediana = df_dsa_final_agrupado.median()\n",
    "variancia = df_dsa_final_agrupado.var()\n",
    "desvio_padrao = df_dsa_final_agrupado.std()\n",
    "sem = df_dsa_final_agrupado.sem()"
   ]
  },
  {
   "cell_type": "code",
   "execution_count": 18,
   "id": "d6e929de-a07e-4a1f-b9e3-a0819e16c962",
   "metadata": {},
   "outputs": [],
   "source": [
    "# Cria o dataframe de sumário\n",
    "df_sumario_estatistico = pd.DataFrame({'Média': media, \n",
    "                                       'Mediana': mediana, \n",
    "                                       'Variância': variancia, \n",
    "                                       'Desvio Padrão': desvio_padrao,\n",
    "                                       'SEM': sem})"
   ]
  },
  {
   "cell_type": "code",
   "execution_count": 19,
   "id": "0a8a61f1-794e-4a2a-87da-52c17b09f53f",
   "metadata": {},
   "outputs": [
    {
     "data": {
      "text/html": [
       "<div>\n",
       "<style scoped>\n",
       "    .dataframe tbody tr th:only-of-type {\n",
       "        vertical-align: middle;\n",
       "    }\n",
       "\n",
       "    .dataframe tbody tr th {\n",
       "        vertical-align: top;\n",
       "    }\n",
       "\n",
       "    .dataframe thead th {\n",
       "        text-align: right;\n",
       "    }\n",
       "</style>\n",
       "<table border=\"1\" class=\"dataframe\">\n",
       "  <thead>\n",
       "    <tr style=\"text-align: right;\">\n",
       "      <th></th>\n",
       "      <th>Média</th>\n",
       "      <th>Mediana</th>\n",
       "      <th>Variância</th>\n",
       "      <th>Desvio Padrão</th>\n",
       "      <th>SEM</th>\n",
       "    </tr>\n",
       "    <tr>\n",
       "      <th>Medicamento</th>\n",
       "      <th></th>\n",
       "      <th></th>\n",
       "      <th></th>\n",
       "      <th></th>\n",
       "      <th></th>\n",
       "    </tr>\n",
       "  </thead>\n",
       "  <tbody>\n",
       "    <tr>\n",
       "      <th>Capomulin</th>\n",
       "      <td>39.952874</td>\n",
       "      <td>40.162141</td>\n",
       "      <td>19.485353</td>\n",
       "      <td>4.414222</td>\n",
       "      <td>0.396409</td>\n",
       "    </tr>\n",
       "    <tr>\n",
       "      <th>Infubinol</th>\n",
       "      <td>39.527638</td>\n",
       "      <td>39.598429</td>\n",
       "      <td>22.306899</td>\n",
       "      <td>4.723018</td>\n",
       "      <td>0.436643</td>\n",
       "    </tr>\n",
       "    <tr>\n",
       "      <th>Placebo</th>\n",
       "      <td>40.204385</td>\n",
       "      <td>40.072851</td>\n",
       "      <td>22.427712</td>\n",
       "      <td>4.735790</td>\n",
       "      <td>0.421898</td>\n",
       "    </tr>\n",
       "    <tr>\n",
       "      <th>Ramicane</th>\n",
       "      <td>40.437902</td>\n",
       "      <td>40.682981</td>\n",
       "      <td>16.588849</td>\n",
       "      <td>4.072941</td>\n",
       "      <td>0.353169</td>\n",
       "    </tr>\n",
       "  </tbody>\n",
       "</table>\n",
       "</div>"
      ],
      "text/plain": [
       "                 Média    Mediana  Variância  Desvio Padrão       SEM\n",
       "Medicamento                                                          \n",
       "Capomulin    39.952874  40.162141  19.485353       4.414222  0.396409\n",
       "Infubinol    39.527638  39.598429  22.306899       4.723018  0.436643\n",
       "Placebo      40.204385  40.072851  22.427712       4.735790  0.421898\n",
       "Ramicane     40.437902  40.682981  16.588849       4.072941  0.353169"
      ]
     },
     "execution_count": 19,
     "metadata": {},
     "output_type": "execute_result"
    }
   ],
   "source": [
    "df_sumario_estatistico"
   ]
  },
  {
   "cell_type": "code",
   "execution_count": 20,
   "id": "a5f059a5-8d0b-40ce-9509-ef62e203b4e9",
   "metadata": {},
   "outputs": [],
   "source": [
    "# Esta seria uma alternativa para agrupamento e cálculo das estatísticas\n",
    "sumario_agregado = df_dsa_final_agrupado.agg([\"mean\", \"median\", \"var\", \"std\", \"sem\"])"
   ]
  },
  {
   "cell_type": "markdown",
   "id": "46257536-d067-47ba-aaff-9ba10d948ac2",
   "metadata": {},
   "source": [
    "As funções usadas aqui são:\n",
    "\n",
    "- mean: Calcula a média aritmética dos dados.\n",
    "- median: Determina o valor mediano dos dados.\n",
    "- var: Calcula a variância dos dados, uma medida de dispersão que mostra quão distantes os valores estão da média.\n",
    "- std: Determina o desvio padrão, que é a raiz quadrada da variância e fornece uma medida de quão espalhados estão os valores em relação à média.\n",
    "- sem: Calcula o erro padrão da média (standard error of the mean), que indica a precisão da média como uma estimativa da média populacional."
   ]
  },
  {
   "cell_type": "code",
   "execution_count": 21,
   "id": "a0873368-0e04-48b0-8004-215c44d33ff8",
   "metadata": {},
   "outputs": [
    {
     "data": {
      "text/html": [
       "<div>\n",
       "<style scoped>\n",
       "    .dataframe tbody tr th:only-of-type {\n",
       "        vertical-align: middle;\n",
       "    }\n",
       "\n",
       "    .dataframe tbody tr th {\n",
       "        vertical-align: top;\n",
       "    }\n",
       "\n",
       "    .dataframe thead th {\n",
       "        text-align: right;\n",
       "    }\n",
       "</style>\n",
       "<table border=\"1\" class=\"dataframe\">\n",
       "  <thead>\n",
       "    <tr style=\"text-align: right;\">\n",
       "      <th></th>\n",
       "      <th>mean</th>\n",
       "      <th>median</th>\n",
       "      <th>var</th>\n",
       "      <th>std</th>\n",
       "      <th>sem</th>\n",
       "    </tr>\n",
       "    <tr>\n",
       "      <th>Medicamento</th>\n",
       "      <th></th>\n",
       "      <th></th>\n",
       "      <th></th>\n",
       "      <th></th>\n",
       "      <th></th>\n",
       "    </tr>\n",
       "  </thead>\n",
       "  <tbody>\n",
       "    <tr>\n",
       "      <th>Capomulin</th>\n",
       "      <td>39.952874</td>\n",
       "      <td>40.162141</td>\n",
       "      <td>19.485353</td>\n",
       "      <td>4.414222</td>\n",
       "      <td>0.396409</td>\n",
       "    </tr>\n",
       "    <tr>\n",
       "      <th>Infubinol</th>\n",
       "      <td>39.527638</td>\n",
       "      <td>39.598429</td>\n",
       "      <td>22.306899</td>\n",
       "      <td>4.723018</td>\n",
       "      <td>0.436643</td>\n",
       "    </tr>\n",
       "    <tr>\n",
       "      <th>Placebo</th>\n",
       "      <td>40.204385</td>\n",
       "      <td>40.072851</td>\n",
       "      <td>22.427712</td>\n",
       "      <td>4.735790</td>\n",
       "      <td>0.421898</td>\n",
       "    </tr>\n",
       "    <tr>\n",
       "      <th>Ramicane</th>\n",
       "      <td>40.437902</td>\n",
       "      <td>40.682981</td>\n",
       "      <td>16.588849</td>\n",
       "      <td>4.072941</td>\n",
       "      <td>0.353169</td>\n",
       "    </tr>\n",
       "  </tbody>\n",
       "</table>\n",
       "</div>"
      ],
      "text/plain": [
       "                  mean     median        var       std       sem\n",
       "Medicamento                                                     \n",
       "Capomulin    39.952874  40.162141  19.485353  4.414222  0.396409\n",
       "Infubinol    39.527638  39.598429  22.306899  4.723018  0.436643\n",
       "Placebo      40.204385  40.072851  22.427712  4.735790  0.421898\n",
       "Ramicane     40.437902  40.682981  16.588849  4.072941  0.353169"
      ]
     },
     "execution_count": 21,
     "metadata": {},
     "output_type": "execute_result"
    }
   ],
   "source": [
    "sumario_agregado"
   ]
  },
  {
   "cell_type": "markdown",
   "id": "d600811a-4be2-44b9-87cf-97753ef8ef5f",
   "metadata": {},
   "source": [
    "## Análise Exploratória"
   ]
  },
  {
   "cell_type": "code",
   "execution_count": 22,
   "id": "5cc89025-b140-447c-9cc2-c3d6ae4c6284",
   "metadata": {},
   "outputs": [
    {
     "data": {
      "text/plain": [
       "Index(['ID Mouse', 'Medicamento', 'Sexo', 'Idade_Meses', 'Peso (g)',\n",
       "       'Timepoint', 'Tumor Volume (mm3)', 'Sitios Metastáticos'],\n",
       "      dtype='object')"
      ]
     },
     "execution_count": 22,
     "metadata": {},
     "output_type": "execute_result"
    }
   ],
   "source": [
    "# Nomes colunas\n",
    "df_dsa_final.columns"
   ]
  },
  {
   "cell_type": "code",
   "execution_count": 23,
   "id": "ee8eeb2d-c6ec-483c-8cf7-00c73154fb5c",
   "metadata": {},
   "outputs": [
    {
     "data": {
      "text/plain": [
       "Medicamento\n",
       "Ramicane     133\n",
       "Placebo      126\n",
       "Capomulin    124\n",
       "Infubinol    117\n",
       "Name: count, dtype: int64"
      ]
     },
     "execution_count": 23,
     "metadata": {},
     "output_type": "execute_result"
    }
   ],
   "source": [
    "# Registros por medicamento\n",
    "df_dsa_final[\"Medicamento\"].value_counts()"
   ]
  },
  {
   "cell_type": "code",
   "execution_count": 24,
   "id": "6f3e78c6-6dc8-4bae-bc35-e79c04db0e24",
   "metadata": {},
   "outputs": [
    {
     "data": {
      "image/png": "[encoded data removed]",
      "text/plain": [
       "<Figure size 1200x500 with 1 Axes>"
      ]
     },
     "metadata": {},
     "output_type": "display_data"
    }
   ],
   "source": [
    "# Número de Testes Por Medicamento\n",
    "\n",
    "# Plot\n",
    "plt.figure(figsize = (12, 5)) \n",
    "x_axis = df_dsa_final[\"Medicamento\"].value_counts().index.values\n",
    "y_axis = df_dsa_final[\"Medicamento\"].value_counts().values\n",
    "plt.bar(x_axis, y_axis, color = \"green\")\n",
    "plt.title(\"Número de Testes Por Medicamento\")\n",
    "plt.xlabel(\"Medicamento\")\n",
    "plt.ylabel(\"Número de Testes\")\n",
    "plt.grid(alpha = 0.4)\n",
    "plt.xticks(rotation = 45)\n",
    "plt.show()"
   ]
  },
  {
   "cell_type": "code",
   "execution_count": 25,
   "id": "b648b0a3-2c6e-455f-8fb3-ee6c9aef4938",
   "metadata": {},
   "outputs": [
    {
     "data": {
      "image/png": "[encoded data removed]",
      "text/plain": [
       "<Figure size 1200x500 with 1 Axes>"
      ]
     },
     "metadata": {},
     "output_type": "display_data"
    }
   ],
   "source": [
    "# Média do Volume do Tumor por Faixa Etária\n",
    "\n",
    "# Definindo faixas etárias\n",
    "bins = [0, 6, 12, 18, 24, 30]  \n",
    "labels = ['0-6 meses', '6-12 meses', '12-18 meses', '18-24 meses', '24 meses ou mais']\n",
    "\n",
    "# Divide as faixas\n",
    "df_dsa_final['faixa_etaria'] = pd.cut(df_dsa_final['Idade_Meses'], \n",
    "                                      bins = bins, \n",
    "                                      labels = labels, \n",
    "                                      right = False)\n",
    "\n",
    "# Agrupando por 'faixa_etaria' e calculando a média do 'Tumor Volume (mm3)'\n",
    "media_tumor = df_dsa_final.groupby('faixa_etaria')['Tumor Volume (mm3)'].mean().reset_index()\n",
    "\n",
    "# Criando o gráfico\n",
    "import seaborn as sns\n",
    "plt.figure(figsize = (12, 5)) \n",
    "sns.barplot(x = 'faixa_etaria', y = 'Tumor Volume (mm3)', data = media_tumor)\n",
    "plt.title('Média do Volume do Tumor por Faixa Etária')\n",
    "plt.xlabel('\\nFaixa Etária')\n",
    "plt.ylabel('Média do Volume do Tumor (mm3)')\n",
    "plt.show()"
   ]
  },
  {
   "cell_type": "markdown",
   "id": "3d3ac20e-2c9c-479f-84bf-1fbf33ba8810",
   "metadata": {},
   "source": [
    "## Quartis, Outliers e Boxplots\n",
    "\n",
    "Quartis são valores que dividem um conjunto de dados em quatro partes iguais. O primeiro quartil (Q1) é o valor que separa os 25% menores dados dos demais, o segundo quartil (Q2) ou mediana divide os dados ao meio, e o terceiro quartil (Q3) separa os 75% menores dados dos 25% maiores.\n",
    "\n",
    "Outliers ou valores atípicos são observações que se distanciam significativamente dos outros dados do conjunto. Eles podem ser resultado de variabilidade nos dados ou de erros de medição. São importantes porque podem distorcer estatísticas e proporcionar insights sobre anomalias.\n",
    "\n",
    "Um boxplot é um método gráfico para representar a distribuição de dados numéricos por meio de quartis. Ele mostra o mínimo, o primeiro quartil (Q1), a mediana (Q2), o terceiro quartil (Q3) e o máximo, com linhas (chamadas de \"bigodes\" ou whiskers) que se estendem para mostrar a variabilidade fora dos quartis. Outliers são frequentemente indicados como pontos individuais que ficam fora dos \"bigodes\"."
   ]
  },
  {
   "cell_type": "code",
   "execution_count": 26,
   "id": "37eb1588-8ae2-49f3-9609-e2ad6890cbdc",
   "metadata": {},
   "outputs": [
    {
     "data": {
      "text/plain": [
       "Index(['ID Mouse', 'Medicamento', 'Sexo', 'Idade_Meses', 'Peso (g)',\n",
       "       'Timepoint', 'Tumor Volume (mm3)', 'Sitios Metastáticos',\n",
       "       'faixa_etaria'],\n",
       "      dtype='object')"
      ]
     },
     "execution_count": 26,
     "metadata": {},
     "output_type": "execute_result"
    }
   ],
   "source": [
    "# Nomes das colunas\n",
    "df_dsa_final.columns"
   ]
  },
  {
   "cell_type": "code",
   "execution_count": 27,
   "id": "ffe25f60-4ae1-4bb9-878b-1ceda0f27107",
   "metadata": {},
   "outputs": [],
   "source": [
    "# Filtra os dados por medicamento\n",
    "Capomulin_df = df_dsa_final.loc[df_dsa_final[\"Medicamento\"] == \"Capomulin\",:]\n",
    "Ramicane_df = df_dsa_final.loc[df_dsa_final[\"Medicamento\"] == \"Ramicane\", :]\n",
    "Infubinol_df = df_dsa_final.loc[df_dsa_final[\"Medicamento\"] == \"Infubinol\", :]\n",
    "Ceftamin_df = df_dsa_final.loc[df_dsa_final[\"Medicamento\"] == \"Ceftamin\", :]"
   ]
  },
  {
   "cell_type": "code",
   "execution_count": 28,
   "id": "1109a8d7-99cd-4332-8387-7f902213b34b",
   "metadata": {},
   "outputs": [
    {
     "data": {
      "text/html": [
       "<div>\n",
       "<style scoped>\n",
       "    .dataframe tbody tr th:only-of-type {\n",
       "        vertical-align: middle;\n",
       "    }\n",
       "\n",
       "    .dataframe tbody tr th {\n",
       "        vertical-align: top;\n",
       "    }\n",
       "\n",
       "    .dataframe thead th {\n",
       "        text-align: right;\n",
       "    }\n",
       "</style>\n",
       "<table border=\"1\" class=\"dataframe\">\n",
       "  <thead>\n",
       "    <tr style=\"text-align: right;\">\n",
       "      <th></th>\n",
       "      <th>ID Mouse</th>\n",
       "      <th>Medicamento</th>\n",
       "      <th>Sexo</th>\n",
       "      <th>Idade_Meses</th>\n",
       "      <th>Peso (g)</th>\n",
       "      <th>Timepoint</th>\n",
       "      <th>Tumor Volume (mm3)</th>\n",
       "      <th>Sitios Metastáticos</th>\n",
       "      <th>faixa_etaria</th>\n",
       "    </tr>\n",
       "  </thead>\n",
       "  <tbody>\n",
       "    <tr>\n",
       "      <th>3</th>\n",
       "      <td>m000</td>\n",
       "      <td>Capomulin</td>\n",
       "      <td>Feminino</td>\n",
       "      <td>21</td>\n",
       "      <td>23</td>\n",
       "      <td>15</td>\n",
       "      <td>38.578206</td>\n",
       "      <td>2</td>\n",
       "      <td>18-24 meses</td>\n",
       "    </tr>\n",
       "    <tr>\n",
       "      <th>11</th>\n",
       "      <td>m002</td>\n",
       "      <td>Capomulin</td>\n",
       "      <td>Feminino</td>\n",
       "      <td>5</td>\n",
       "      <td>15</td>\n",
       "      <td>5</td>\n",
       "      <td>42.618402</td>\n",
       "      <td>0</td>\n",
       "      <td>0-6 meses</td>\n",
       "    </tr>\n",
       "    <tr>\n",
       "      <th>18</th>\n",
       "      <td>m003</td>\n",
       "      <td>Capomulin</td>\n",
       "      <td>Feminino</td>\n",
       "      <td>8</td>\n",
       "      <td>19</td>\n",
       "      <td>15</td>\n",
       "      <td>38.578974</td>\n",
       "      <td>0</td>\n",
       "      <td>6-12 meses</td>\n",
       "    </tr>\n",
       "    <tr>\n",
       "      <th>24</th>\n",
       "      <td>m004</td>\n",
       "      <td>Capomulin</td>\n",
       "      <td>Masculino</td>\n",
       "      <td>6</td>\n",
       "      <td>28</td>\n",
       "      <td>20</td>\n",
       "      <td>39.716441</td>\n",
       "      <td>2</td>\n",
       "      <td>6-12 meses</td>\n",
       "    </tr>\n",
       "    <tr>\n",
       "      <th>28</th>\n",
       "      <td>m005</td>\n",
       "      <td>Capomulin</td>\n",
       "      <td>Masculino</td>\n",
       "      <td>16</td>\n",
       "      <td>27</td>\n",
       "      <td>15</td>\n",
       "      <td>40.130019</td>\n",
       "      <td>2</td>\n",
       "      <td>12-18 meses</td>\n",
       "    </tr>\n",
       "  </tbody>\n",
       "</table>\n",
       "</div>"
      ],
      "text/plain": [
       "   ID Mouse Medicamento       Sexo  Idade_Meses  Peso (g)  Timepoint  \\\n",
       "3      m000   Capomulin   Feminino           21        23         15   \n",
       "11     m002   Capomulin   Feminino            5        15          5   \n",
       "18     m003   Capomulin   Feminino            8        19         15   \n",
       "24     m004   Capomulin  Masculino            6        28         20   \n",
       "28     m005   Capomulin  Masculino           16        27         15   \n",
       "\n",
       "    Tumor Volume (mm3)  Sitios Metastáticos faixa_etaria  \n",
       "3            38.578206                    2  18-24 meses  \n",
       "11           42.618402                    0    0-6 meses  \n",
       "18           38.578974                    0   6-12 meses  \n",
       "24           39.716441                    2   6-12 meses  \n",
       "28           40.130019                    2  12-18 meses  "
      ]
     },
     "execution_count": 28,
     "metadata": {},
     "output_type": "execute_result"
    }
   ],
   "source": [
    "Capomulin_df.head()"
   ]
  },
  {
   "cell_type": "code",
   "execution_count": 29,
   "id": "b9d6e97f-57a8-41e7-b02b-f625ac78112f",
   "metadata": {},
   "outputs": [],
   "source": [
    "# Agrupa pelo 'ID Mouse' e obtém o maior valor (o último tratamento de cada cobaia), filtrando o 'Timepoint'\n",
    "Capomulin_last = Capomulin_df.groupby('ID Mouse').max()['Timepoint']"
   ]
  },
  {
   "cell_type": "code",
   "execution_count": 30,
   "id": "f92f4e6e-750c-4e26-872a-aa421deab017",
   "metadata": {},
   "outputs": [
    {
     "data": {
      "text/plain": [
       "ID Mouse\n",
       "m000    15\n",
       "m002     5\n",
       "m003    15\n",
       "m004    20\n",
       "m005    15\n",
       "        ..\n",
       "m094    10\n",
       "m095    20\n",
       "m096    20\n",
       "m097     0\n",
       "m098    20\n",
       "Name: Timepoint, Length: 76, dtype: int64"
      ]
     },
     "execution_count": 30,
     "metadata": {},
     "output_type": "execute_result"
    }
   ],
   "source": [
    "Capomulin_last"
   ]
  },
  {
   "cell_type": "code",
   "execution_count": 31,
   "id": "64b5f4d3-088b-4bf8-bafe-b7da53c3208a",
   "metadata": {},
   "outputs": [],
   "source": [
    "# Converte em dataframe\n",
    "Capomulin_volume = pd.DataFrame(Capomulin_last)"
   ]
  },
  {
   "cell_type": "code",
   "execution_count": 32,
   "id": "09cd9021-35b7-4d34-b4a0-90249254d425",
   "metadata": {},
   "outputs": [],
   "source": [
    "# Merge com o dataframe original (queremos somente o último timepoint)\n",
    "Capomulin_merge = pd.merge(Capomulin_volume, Capomulin_df, on = (\"ID Mouse\", \"Timepoint\"), how = \"left\")"
   ]
  },
  {
   "cell_type": "code",
   "execution_count": 33,
   "id": "d99f5e43-00b1-452b-8f9d-45180f8dcf42",
   "metadata": {},
   "outputs": [
    {
     "data": {
      "text/html": [
       "<div>\n",
       "<style scoped>\n",
       "    .dataframe tbody tr th:only-of-type {\n",
       "        vertical-align: middle;\n",
       "    }\n",
       "\n",
       "    .dataframe tbody tr th {\n",
       "        vertical-align: top;\n",
       "    }\n",
       "\n",
       "    .dataframe thead th {\n",
       "        text-align: right;\n",
       "    }\n",
       "</style>\n",
       "<table border=\"1\" class=\"dataframe\">\n",
       "  <thead>\n",
       "    <tr style=\"text-align: right;\">\n",
       "      <th></th>\n",
       "      <th>ID Mouse</th>\n",
       "      <th>Timepoint</th>\n",
       "      <th>Medicamento</th>\n",
       "      <th>Sexo</th>\n",
       "      <th>Idade_Meses</th>\n",
       "      <th>Peso (g)</th>\n",
       "      <th>Tumor Volume (mm3)</th>\n",
       "      <th>Sitios Metastáticos</th>\n",
       "      <th>faixa_etaria</th>\n",
       "    </tr>\n",
       "  </thead>\n",
       "  <tbody>\n",
       "    <tr>\n",
       "      <th>0</th>\n",
       "      <td>m000</td>\n",
       "      <td>15</td>\n",
       "      <td>Capomulin</td>\n",
       "      <td>Feminino</td>\n",
       "      <td>21</td>\n",
       "      <td>23</td>\n",
       "      <td>38.578206</td>\n",
       "      <td>2</td>\n",
       "      <td>18-24 meses</td>\n",
       "    </tr>\n",
       "    <tr>\n",
       "      <th>1</th>\n",
       "      <td>m002</td>\n",
       "      <td>5</td>\n",
       "      <td>Capomulin</td>\n",
       "      <td>Feminino</td>\n",
       "      <td>5</td>\n",
       "      <td>15</td>\n",
       "      <td>42.618402</td>\n",
       "      <td>0</td>\n",
       "      <td>0-6 meses</td>\n",
       "    </tr>\n",
       "    <tr>\n",
       "      <th>2</th>\n",
       "      <td>m003</td>\n",
       "      <td>15</td>\n",
       "      <td>Capomulin</td>\n",
       "      <td>Feminino</td>\n",
       "      <td>8</td>\n",
       "      <td>19</td>\n",
       "      <td>38.578974</td>\n",
       "      <td>0</td>\n",
       "      <td>6-12 meses</td>\n",
       "    </tr>\n",
       "    <tr>\n",
       "      <th>3</th>\n",
       "      <td>m004</td>\n",
       "      <td>20</td>\n",
       "      <td>Capomulin</td>\n",
       "      <td>Masculino</td>\n",
       "      <td>6</td>\n",
       "      <td>28</td>\n",
       "      <td>39.716441</td>\n",
       "      <td>2</td>\n",
       "      <td>6-12 meses</td>\n",
       "    </tr>\n",
       "    <tr>\n",
       "      <th>4</th>\n",
       "      <td>m005</td>\n",
       "      <td>15</td>\n",
       "      <td>Capomulin</td>\n",
       "      <td>Masculino</td>\n",
       "      <td>16</td>\n",
       "      <td>27</td>\n",
       "      <td>40.130019</td>\n",
       "      <td>2</td>\n",
       "      <td>12-18 meses</td>\n",
       "    </tr>\n",
       "  </tbody>\n",
       "</table>\n",
       "</div>"
      ],
      "text/plain": [
       "  ID Mouse  Timepoint Medicamento       Sexo  Idade_Meses  Peso (g)  \\\n",
       "0     m000         15   Capomulin   Feminino           21        23   \n",
       "1     m002          5   Capomulin   Feminino            5        15   \n",
       "2     m003         15   Capomulin   Feminino            8        19   \n",
       "3     m004         20   Capomulin  Masculino            6        28   \n",
       "4     m005         15   Capomulin  Masculino           16        27   \n",
       "\n",
       "   Tumor Volume (mm3)  Sitios Metastáticos faixa_etaria  \n",
       "0           38.578206                    2  18-24 meses  \n",
       "1           42.618402                    0    0-6 meses  \n",
       "2           38.578974                    0   6-12 meses  \n",
       "3           39.716441                    2   6-12 meses  \n",
       "4           40.130019                    2  12-18 meses  "
      ]
     },
     "execution_count": 33,
     "metadata": {},
     "output_type": "execute_result"
    }
   ],
   "source": [
    "Capomulin_merge.head()"
   ]
  },
  {
   "cell_type": "code",
   "execution_count": 34,
   "id": "1b5a294b-aa74-4939-89ac-ad4410ecd557",
   "metadata": {},
   "outputs": [],
   "source": [
    "# Extrai os tumores\n",
    "Capomulin_tumors = Capomulin_merge[\"Tumor Volume (mm3)\"]"
   ]
  },
  {
   "cell_type": "code",
   "execution_count": 35,
   "id": "d20b1c31-7089-4419-bbae-37e09bfa5286",
   "metadata": {},
   "outputs": [],
   "source": [
    "# Extrai os quartis\n",
    "Cap_quartiles = Capomulin_tumors.quantile([0.25, 0.5, 0.75])"
   ]
  },
  {
   "cell_type": "code",
   "execution_count": 36,
   "id": "422c1e97-c015-4bba-aaad-89337c1f5120",
   "metadata": {},
   "outputs": [],
   "source": [
    "# Separa o primeiro e o terceiro quartil\n",
    "Cap_lowerq = Cap_quartiles[0.25]\n",
    "Cap_upperq = Cap_quartiles[0.75]"
   ]
  },
  {
   "cell_type": "code",
   "execution_count": 37,
   "id": "e3c3b091-b081-4465-a43f-bb1c11020d65",
   "metadata": {},
   "outputs": [],
   "source": [
    "# Calcula o IQR (Intervalo Interquartil)\n",
    "Cap_iqr = Cap_upperq - Cap_lowerq"
   ]
  },
  {
   "cell_type": "code",
   "execution_count": 38,
   "id": "10cfa074-2aab-45ee-8e0e-2d0f2b1c79a4",
   "metadata": {},
   "outputs": [],
   "source": [
    "# Define limites inferior e superior\n",
    "Cap_lowerbound = Cap_lowerq - (Cap_iqr * 1.5)\n",
    "Cap_upperbound = Cap_upperq + (Cap_iqr * 1.5)"
   ]
  },
  {
   "cell_type": "code",
   "execution_count": 39,
   "id": "0911287b-8df4-403b-a91e-e82c8a9af81e",
   "metadata": {},
   "outputs": [
    {
     "name": "stdout",
     "output_type": "stream",
     "text": [
      "Primeiro Quartil da Medida do Tumor com Capomulin: 35.58718855604685\n",
      "Terceiro Quartil da Medida do Tumor com Capomulin: 41.07860879053021\n",
      "Intervalo Interquartil (IQR): 5.491420234483364\n",
      "Valores Abaixo de 27.3500582043218 podem ser outliers\n",
      "Valores Acima de 49.315739142255254 podem ser outliers\n"
     ]
    }
   ],
   "source": [
    "print(f\"Primeiro Quartil da Medida do Tumor com Capomulin: {Cap_lowerq}\")\n",
    "print(f\"Terceiro Quartil da Medida do Tumor com Capomulin: {Cap_upperq}\")\n",
    "print(f\"Intervalo Interquartil (IQR): {Cap_iqr}\")\n",
    "print(f\"Valores Abaixo de {Cap_lowerbound} podem ser outliers\")\n",
    "print(f\"Valores Acima de {Cap_upperbound} podem ser outliers\")"
   ]
  },
  {
   "cell_type": "markdown",
   "id": "1e6e114a-9ee5-4222-9a11-b33d44647e2f",
   "metadata": {},
   "source": [
    "> Vamos agora reproduzir isso para cada medicamento."
   ]
  },
  {
   "cell_type": "code",
   "execution_count": 40,
   "id": "c26e459d-27ca-436e-99dc-dce021685f82",
   "metadata": {},
   "outputs": [],
   "source": [
    "# Extrai o último timepoint para cada cobaia\n",
    "last_timepoint = pd.DataFrame(df_dsa_final.groupby('ID Mouse')['Timepoint'].max().sort_values()) \\\n",
    "                    .reset_index().rename(columns = {'Timepoint': 'max_timepoint'})"
   ]
  },
  {
   "cell_type": "code",
   "execution_count": 41,
   "id": "e1aaf596-313e-43fc-bb56-aef8dfa29c5b",
   "metadata": {},
   "outputs": [
    {
     "data": {
      "text/html": [
       "<div>\n",
       "<style scoped>\n",
       "    .dataframe tbody tr th:only-of-type {\n",
       "        vertical-align: middle;\n",
       "    }\n",
       "\n",
       "    .dataframe tbody tr th {\n",
       "        vertical-align: top;\n",
       "    }\n",
       "\n",
       "    .dataframe thead th {\n",
       "        text-align: right;\n",
       "    }\n",
       "</style>\n",
       "<table border=\"1\" class=\"dataframe\">\n",
       "  <thead>\n",
       "    <tr style=\"text-align: right;\">\n",
       "      <th></th>\n",
       "      <th>ID Mouse</th>\n",
       "      <th>max_timepoint</th>\n",
       "    </tr>\n",
       "  </thead>\n",
       "  <tbody>\n",
       "    <tr>\n",
       "      <th>0</th>\n",
       "      <td>m000</td>\n",
       "      <td>20</td>\n",
       "    </tr>\n",
       "    <tr>\n",
       "      <th>1</th>\n",
       "      <td>m072</td>\n",
       "      <td>20</td>\n",
       "    </tr>\n",
       "    <tr>\n",
       "      <th>2</th>\n",
       "      <td>m071</td>\n",
       "      <td>20</td>\n",
       "    </tr>\n",
       "    <tr>\n",
       "      <th>3</th>\n",
       "      <td>m070</td>\n",
       "      <td>20</td>\n",
       "    </tr>\n",
       "    <tr>\n",
       "      <th>4</th>\n",
       "      <td>m069</td>\n",
       "      <td>20</td>\n",
       "    </tr>\n",
       "  </tbody>\n",
       "</table>\n",
       "</div>"
      ],
      "text/plain": [
       "  ID Mouse  max_timepoint\n",
       "0     m000             20\n",
       "1     m072             20\n",
       "2     m071             20\n",
       "3     m070             20\n",
       "4     m069             20"
      ]
     },
     "execution_count": 41,
     "metadata": {},
     "output_type": "execute_result"
    }
   ],
   "source": [
    "last_timepoint.head()"
   ]
  },
  {
   "cell_type": "code",
   "execution_count": 42,
   "id": "2a21f41e-5dbd-408a-b07f-4a29f5934160",
   "metadata": {},
   "outputs": [],
   "source": [
    "# Adiciona o último timepoint como uma coluna no dataframe original\n",
    "merged_df = pd.merge(df_dsa_final, last_timepoint, on = \"ID Mouse\")"
   ]
  },
  {
   "cell_type": "code",
   "execution_count": 43,
   "id": "f45762d3-f0c3-49d2-ac0e-40817976b01d",
   "metadata": {},
   "outputs": [
    {
     "data": {
      "text/plain": [
       "(500, 10)"
      ]
     },
     "execution_count": 43,
     "metadata": {},
     "output_type": "execute_result"
    }
   ],
   "source": [
    "merged_df.shape"
   ]
  },
  {
   "cell_type": "code",
   "execution_count": 44,
   "id": "c074070f-61b0-4d90-b8de-de341ccb9fd2",
   "metadata": {},
   "outputs": [
    {
     "data": {
      "text/html": [
       "<div>\n",
       "<style scoped>\n",
       "    .dataframe tbody tr th:only-of-type {\n",
       "        vertical-align: middle;\n",
       "    }\n",
       "\n",
       "    .dataframe tbody tr th {\n",
       "        vertical-align: top;\n",
       "    }\n",
       "\n",
       "    .dataframe thead th {\n",
       "        text-align: right;\n",
       "    }\n",
       "</style>\n",
       "<table border=\"1\" class=\"dataframe\">\n",
       "  <thead>\n",
       "    <tr style=\"text-align: right;\">\n",
       "      <th></th>\n",
       "      <th>ID Mouse</th>\n",
       "      <th>Medicamento</th>\n",
       "      <th>Sexo</th>\n",
       "      <th>Idade_Meses</th>\n",
       "      <th>Peso (g)</th>\n",
       "      <th>Timepoint</th>\n",
       "      <th>Tumor Volume (mm3)</th>\n",
       "      <th>Sitios Metastáticos</th>\n",
       "      <th>faixa_etaria</th>\n",
       "      <th>max_timepoint</th>\n",
       "    </tr>\n",
       "  </thead>\n",
       "  <tbody>\n",
       "    <tr>\n",
       "      <th>0</th>\n",
       "      <td>m000</td>\n",
       "      <td>Placebo</td>\n",
       "      <td>Masculino</td>\n",
       "      <td>18</td>\n",
       "      <td>21</td>\n",
       "      <td>0</td>\n",
       "      <td>45.780350</td>\n",
       "      <td>2</td>\n",
       "      <td>18-24 meses</td>\n",
       "      <td>20</td>\n",
       "    </tr>\n",
       "    <tr>\n",
       "      <th>1</th>\n",
       "      <td>m000</td>\n",
       "      <td>Ramicane</td>\n",
       "      <td>Masculino</td>\n",
       "      <td>24</td>\n",
       "      <td>17</td>\n",
       "      <td>5</td>\n",
       "      <td>42.728114</td>\n",
       "      <td>0</td>\n",
       "      <td>24 meses ou mais</td>\n",
       "      <td>20</td>\n",
       "    </tr>\n",
       "    <tr>\n",
       "      <th>2</th>\n",
       "      <td>m000</td>\n",
       "      <td>Ramicane</td>\n",
       "      <td>Feminino</td>\n",
       "      <td>19</td>\n",
       "      <td>23</td>\n",
       "      <td>10</td>\n",
       "      <td>40.827502</td>\n",
       "      <td>1</td>\n",
       "      <td>18-24 meses</td>\n",
       "      <td>20</td>\n",
       "    </tr>\n",
       "    <tr>\n",
       "      <th>3</th>\n",
       "      <td>m000</td>\n",
       "      <td>Capomulin</td>\n",
       "      <td>Feminino</td>\n",
       "      <td>21</td>\n",
       "      <td>23</td>\n",
       "      <td>15</td>\n",
       "      <td>38.578206</td>\n",
       "      <td>2</td>\n",
       "      <td>18-24 meses</td>\n",
       "      <td>20</td>\n",
       "    </tr>\n",
       "    <tr>\n",
       "      <th>4</th>\n",
       "      <td>m000</td>\n",
       "      <td>Infubinol</td>\n",
       "      <td>Masculino</td>\n",
       "      <td>12</td>\n",
       "      <td>17</td>\n",
       "      <td>20</td>\n",
       "      <td>35.094393</td>\n",
       "      <td>2</td>\n",
       "      <td>12-18 meses</td>\n",
       "      <td>20</td>\n",
       "    </tr>\n",
       "  </tbody>\n",
       "</table>\n",
       "</div>"
      ],
      "text/plain": [
       "  ID Mouse Medicamento       Sexo  Idade_Meses  Peso (g)  Timepoint  \\\n",
       "0     m000     Placebo  Masculino           18        21          0   \n",
       "1     m000    Ramicane  Masculino           24        17          5   \n",
       "2     m000    Ramicane   Feminino           19        23         10   \n",
       "3     m000   Capomulin   Feminino           21        23         15   \n",
       "4     m000   Infubinol  Masculino           12        17         20   \n",
       "\n",
       "   Tumor Volume (mm3)  Sitios Metastáticos      faixa_etaria  max_timepoint  \n",
       "0           45.780350                    2       18-24 meses             20  \n",
       "1           42.728114                    0  24 meses ou mais             20  \n",
       "2           40.827502                    1       18-24 meses             20  \n",
       "3           38.578206                    2       18-24 meses             20  \n",
       "4           35.094393                    2       12-18 meses             20  "
      ]
     },
     "execution_count": 44,
     "metadata": {},
     "output_type": "execute_result"
    }
   ],
   "source": [
    "merged_df.head()"
   ]
  },
  {
   "cell_type": "code",
   "execution_count": 45,
   "id": "3f973d36-ef97-4a51-baa1-0d34b318e00a",
   "metadata": {},
   "outputs": [
    {
     "data": {
      "text/plain": [
       "Index(['ID Mouse', 'Medicamento', 'Sexo', 'Idade_Meses', 'Peso (g)',\n",
       "       'Timepoint', 'Tumor Volume (mm3)', 'Sitios Metastáticos',\n",
       "       'faixa_etaria'],\n",
       "      dtype='object')"
      ]
     },
     "execution_count": 45,
     "metadata": {},
     "output_type": "execute_result"
    }
   ],
   "source": [
    "# Nomes das colunas\n",
    "df_dsa_final.columns"
   ]
  },
  {
   "cell_type": "code",
   "execution_count": 46,
   "id": "89b58de2-bd5a-4812-a3b4-2ba7f35c158a",
   "metadata": {},
   "outputs": [],
   "source": [
    "# Lista para o volume do tumor\n",
    "tumor_volume = []"
   ]
  },
  {
   "cell_type": "code",
   "execution_count": 47,
   "id": "63cd7000-e016-420d-99ca-ad17c79e42dd",
   "metadata": {},
   "outputs": [],
   "source": [
    "# Lista de tratamentos\n",
    "lista_medicamentos = [\"Capomulin\", \"Ramicane\", \"Infubinol\", \"Placebo\"]"
   ]
  },
  {
   "cell_type": "markdown",
   "id": "b8c20732-a3b6-44e4-aa28-3b878106d935",
   "metadata": {},
   "source": [
    "## Pergunta 1 - Há Outliers em Cada Tratamento?"
   ]
  },
  {
   "cell_type": "code",
   "execution_count": 48,
   "id": "23a7bb42-43c5-4c40-bece-8c8fe267580f",
   "metadata": {},
   "outputs": [
    {
     "name": "stdout",
     "output_type": "stream",
     "text": [
      "\n",
      "Relatório Estatístico de Outliers\n",
      "\n",
      "IQR Para Capomulin: 4.852178469471447\n",
      "Limite Inferior Para Capomulin: 25.767389137683136\n",
      "Limite Superior Para Capomulin: 45.17610301556893\n",
      "Medicamento: Capomulin -> Número de outliers: 0\n",
      "\n",
      "IQR Para Ramicane: 5.003897167188235\n",
      "Limite Inferior Para Ramicane: 26.055360480530023\n",
      "Limite Superior Para Ramicane: 46.07094914928297\n",
      "Medicamento: Ramicane -> Número de outliers: 0\n",
      "\n",
      "IQR Para Infubinol: 3.8793474601479048\n",
      "Limite Inferior Para Infubinol: 26.74425645494983\n",
      "Limite Superior Para Infubinol: 42.26164629554145\n",
      "Medicamento: Infubinol -> Número de outliers: 0\n",
      "\n",
      "IQR Para Placebo: 5.16298824225909\n",
      "Limite Inferior Para Placebo: 24.757630535846673\n",
      "Limite Superior Para Placebo: 45.40958350488303\n",
      "Medicamento: Placebo -> Número de outliers: 0\n"
     ]
    }
   ],
   "source": [
    "print(f\"\\nRelatório Estatístico de Outliers\")\n",
    "\n",
    "# Loop através de cada medicamento na lista de tratamentos\n",
    "for medicamento in lista_medicamentos:\n",
    "\n",
    "    # Filtra o DataFrame para obter dados apenas do medicamento atual na iteração\n",
    "    dsa_dados = merged_df.loc[merged_df[\"Medicamento\"] == medicamento]\n",
    "    \n",
    "    # Localiza os dados do volume final do tumor no último ponto de tempo registrado para o medicamento\n",
    "    final_volume = dsa_dados.loc[dsa_dados[\"Timepoint\"] == dsa_dados[\"max_timepoint\"]]\n",
    "    \n",
    "    # Seleciona a coluna de volume do tumor dos dados filtrados\n",
    "    final_volumes = final_volume[\"Tumor Volume (mm3)\"]\n",
    "    \n",
    "    # Adiciona os volumes finais de tumor à lista de volumes de tumor\n",
    "    tumor_volume.append(final_volumes)\n",
    "        \n",
    "    # Calcula os quartis para os volumes finais do tumor\n",
    "    quartiles = final_volumes.quantile([0.25,.5,0.75])\n",
    "\n",
    "    # Atribui o primeiro quartil à variável lowerq\n",
    "    lowerq = quartiles[0.25]\n",
    "    \n",
    "    # Atribui o terceiro quartil à variável upperq\n",
    "    upperq = quartiles[0.75]\n",
    "    \n",
    "    # Calcula o intervalo interquartil (IQR)\n",
    "    iqr = upperq - lowerq\n",
    "    \n",
    "    # Calcula o limite inferior para detecção de outliers\n",
    "    lower_bound =  lowerq - (1.5 * iqr)\n",
    "    \n",
    "    # Calcula o limite superior para detecção de outliers\n",
    "    upper_bound = upperq +(1.5 * iqr)\n",
    "    \n",
    "    # Conta os outliers com base nos limites definidos\n",
    "    outliers = final_volumes[(final_volume[\"Tumor Volume (mm3)\"] <= lower_bound) | \\\n",
    "                             (final_volume[\"Tumor Volume (mm3)\"] >= upper_bound)].count()\n",
    "\n",
    "    # Imprime o resumo estatístico dos outliers para cada medicamento\n",
    "    print(f\"\\nIQR Para {medicamento}: {iqr}\")\n",
    "    print(f\"Limite Inferior Para {medicamento}: {lower_bound}\")\n",
    "    print(f\"Limite Superior Para {medicamento}: {upper_bound}\")\n",
    "    print(f\"Medicamento: {medicamento} -> Número de outliers: {outliers}\")"
   ]
  },
  {
   "cell_type": "code",
   "execution_count": 49,
   "id": "43d5243a-81dc-40e5-a8ce-2fb9da5198bb",
   "metadata": {},
   "outputs": [
    {
     "data": {
      "image/png": "[encoded data removed]",
      "text/plain": [
       "<Figure size 640x480 with 1 Axes>"
      ]
     },
     "metadata": {},
     "output_type": "display_data"
    }
   ],
   "source": [
    "# Boxplot\n",
    "format = dict(marker = \"o\")\n",
    "plt.boxplot(tumor_volume, flierprops = format, showmeans = True)\n",
    "plt.title(\"Volume Final do Tumor Por Medicamento\")\n",
    "plt.ylabel(\"Tumor Volume (mm3)\")\n",
    "plt.xticks([1,2,3,4], [\"Capomulin\", \"Ramicane\", \"Infubinol\", \"Placebo\"])\n",
    "plt.show()"
   ]
  },
  {
   "cell_type": "markdown",
   "id": "de2e4535-e92d-4f26-9ea1-530cfe6d2d3b",
   "metadata": {},
   "source": [
    "## Pergunta 2 - Com o Uso de Medicamentos Há Efeito no Volume do Tumor ao Longo do Tempo?"
   ]
  },
  {
   "cell_type": "code",
   "execution_count": 50,
   "id": "e6ff8f62-e9cc-44cc-9f28-00763d321717",
   "metadata": {},
   "outputs": [],
   "source": [
    "# Extrai os dados de uma cobaia\n",
    "tratamento_mouse = df_dsa_final.loc[df_dsa_final[\"ID Mouse\"] == \"m000\"]"
   ]
  },
  {
   "cell_type": "code",
   "execution_count": 51,
   "id": "65031a1a-b4e0-4afd-8940-383d18d86b76",
   "metadata": {},
   "outputs": [
    {
     "data": {
      "image/png": "[encoded data removed]",
      "text/plain": [
       "<Figure size 640x480 with 1 Axes>"
      ]
     },
     "metadata": {},
     "output_type": "display_data"
    }
   ],
   "source": [
    "# Plot\n",
    "plt.plot(tratamento_mouse['Timepoint'], tratamento_mouse[\"Tumor Volume (mm3)\"], marker = \"o\")\n",
    "plt.xlabel(\"\\nTempo (dias)\")\n",
    "plt.ylabel(\"Tumor Volume (mm3)\")\n",
    "plt.title(\"Tratamento Para o Mouse m000\")\n",
    "plt.show()"
   ]
  },
  {
   "cell_type": "markdown",
   "id": "04751922-9862-48e1-9e18-2415a927a5c6",
   "metadata": {},
   "source": [
    "## Pergunta 3 - Para Um dos Medicamentos Qual a Relação Entre Peso da Cobaia e Tamanho do Tumor?"
   ]
  },
  {
   "cell_type": "code",
   "execution_count": 52,
   "id": "b986d803-26ab-401d-bcd0-43a6c4b4269a",
   "metadata": {},
   "outputs": [],
   "source": [
    "# Filtra os dados\n",
    "capomulin_treatment = df_dsa_final.loc[df_dsa_final[\"Medicamento\"] == \"Capomulin\"]"
   ]
  },
  {
   "cell_type": "code",
   "execution_count": 53,
   "id": "b9367aa3-f4a6-460b-b7fb-d64180589df4",
   "metadata": {},
   "outputs": [
    {
     "data": {
      "text/html": [
       "<div>\n",
       "<style scoped>\n",
       "    .dataframe tbody tr th:only-of-type {\n",
       "        vertical-align: middle;\n",
       "    }\n",
       "\n",
       "    .dataframe tbody tr th {\n",
       "        vertical-align: top;\n",
       "    }\n",
       "\n",
       "    .dataframe thead th {\n",
       "        text-align: right;\n",
       "    }\n",
       "</style>\n",
       "<table border=\"1\" class=\"dataframe\">\n",
       "  <thead>\n",
       "    <tr style=\"text-align: right;\">\n",
       "      <th></th>\n",
       "      <th>ID Mouse</th>\n",
       "      <th>Medicamento</th>\n",
       "      <th>Sexo</th>\n",
       "      <th>Idade_Meses</th>\n",
       "      <th>Peso (g)</th>\n",
       "      <th>Timepoint</th>\n",
       "      <th>Tumor Volume (mm3)</th>\n",
       "      <th>Sitios Metastáticos</th>\n",
       "      <th>faixa_etaria</th>\n",
       "    </tr>\n",
       "  </thead>\n",
       "  <tbody>\n",
       "    <tr>\n",
       "      <th>3</th>\n",
       "      <td>m000</td>\n",
       "      <td>Capomulin</td>\n",
       "      <td>Feminino</td>\n",
       "      <td>21</td>\n",
       "      <td>23</td>\n",
       "      <td>15</td>\n",
       "      <td>38.578206</td>\n",
       "      <td>2</td>\n",
       "      <td>18-24 meses</td>\n",
       "    </tr>\n",
       "    <tr>\n",
       "      <th>11</th>\n",
       "      <td>m002</td>\n",
       "      <td>Capomulin</td>\n",
       "      <td>Feminino</td>\n",
       "      <td>5</td>\n",
       "      <td>15</td>\n",
       "      <td>5</td>\n",
       "      <td>42.618402</td>\n",
       "      <td>0</td>\n",
       "      <td>0-6 meses</td>\n",
       "    </tr>\n",
       "    <tr>\n",
       "      <th>18</th>\n",
       "      <td>m003</td>\n",
       "      <td>Capomulin</td>\n",
       "      <td>Feminino</td>\n",
       "      <td>8</td>\n",
       "      <td>19</td>\n",
       "      <td>15</td>\n",
       "      <td>38.578974</td>\n",
       "      <td>0</td>\n",
       "      <td>6-12 meses</td>\n",
       "    </tr>\n",
       "    <tr>\n",
       "      <th>24</th>\n",
       "      <td>m004</td>\n",
       "      <td>Capomulin</td>\n",
       "      <td>Masculino</td>\n",
       "      <td>6</td>\n",
       "      <td>28</td>\n",
       "      <td>20</td>\n",
       "      <td>39.716441</td>\n",
       "      <td>2</td>\n",
       "      <td>6-12 meses</td>\n",
       "    </tr>\n",
       "    <tr>\n",
       "      <th>28</th>\n",
       "      <td>m005</td>\n",
       "      <td>Capomulin</td>\n",
       "      <td>Masculino</td>\n",
       "      <td>16</td>\n",
       "      <td>27</td>\n",
       "      <td>15</td>\n",
       "      <td>40.130019</td>\n",
       "      <td>2</td>\n",
       "      <td>12-18 meses</td>\n",
       "    </tr>\n",
       "  </tbody>\n",
       "</table>\n",
       "</div>"
      ],
      "text/plain": [
       "   ID Mouse Medicamento       Sexo  Idade_Meses  Peso (g)  Timepoint  \\\n",
       "3      m000   Capomulin   Feminino           21        23         15   \n",
       "11     m002   Capomulin   Feminino            5        15          5   \n",
       "18     m003   Capomulin   Feminino            8        19         15   \n",
       "24     m004   Capomulin  Masculino            6        28         20   \n",
       "28     m005   Capomulin  Masculino           16        27         15   \n",
       "\n",
       "    Tumor Volume (mm3)  Sitios Metastáticos faixa_etaria  \n",
       "3            38.578206                    2  18-24 meses  \n",
       "11           42.618402                    0    0-6 meses  \n",
       "18           38.578974                    0   6-12 meses  \n",
       "24           39.716441                    2   6-12 meses  \n",
       "28           40.130019                    2  12-18 meses  "
      ]
     },
     "execution_count": 53,
     "metadata": {},
     "output_type": "execute_result"
    }
   ],
   "source": [
    "capomulin_treatment.head()"
   ]
  },
  {
   "cell_type": "code",
   "execution_count": 54,
   "id": "224bf4a0-9e29-4525-a77e-30362119f44f",
   "metadata": {},
   "outputs": [
    {
     "name": "stdout",
     "output_type": "stream",
     "text": [
      "<class 'pandas.core.frame.DataFrame'>\n",
      "Index: 124 entries, 3 to 494\n",
      "Data columns (total 9 columns):\n",
      " #   Column               Non-Null Count  Dtype   \n",
      "---  ------               --------------  -----   \n",
      " 0   ID Mouse             124 non-null    object  \n",
      " 1   Medicamento          124 non-null    object  \n",
      " 2   Sexo                 124 non-null    object  \n",
      " 3   Idade_Meses          124 non-null    int64   \n",
      " 4   Peso (g)             124 non-null    int64   \n",
      " 5   Timepoint            124 non-null    int64   \n",
      " 6   Tumor Volume (mm3)   124 non-null    float64 \n",
      " 7   Sitios Metastáticos  124 non-null    int64   \n",
      " 8   faixa_etaria         124 non-null    category\n",
      "dtypes: category(1), float64(1), int64(4), object(3)\n",
      "memory usage: 9.0+ KB\n"
     ]
    }
   ],
   "source": [
    "capomulin_treatment.info()"
   ]
  },
  {
   "cell_type": "code",
   "execution_count": 55,
   "id": "df14d650-5a17-4710-8b4c-b865f8647724",
   "metadata": {},
   "outputs": [],
   "source": [
    "# Ao calcular a média, especificamos apenas as colunas numéricas\n",
    "avg_tumor_volume = capomulin_treatment.groupby('ID Mouse')[['Idade_Meses', \n",
    "                                                            'Peso (g)', \n",
    "                                                            'Timepoint', \n",
    "                                                            'Tumor Volume (mm3)', \n",
    "                                                            'Sitios Metastáticos']].mean()"
   ]
  },
  {
   "cell_type": "code",
   "execution_count": 56,
   "id": "99a58e27-6d1a-47e1-916c-18d5ba6451b3",
   "metadata": {},
   "outputs": [
    {
     "data": {
      "text/html": [
       "<div>\n",
       "<style scoped>\n",
       "    .dataframe tbody tr th:only-of-type {\n",
       "        vertical-align: middle;\n",
       "    }\n",
       "\n",
       "    .dataframe tbody tr th {\n",
       "        vertical-align: top;\n",
       "    }\n",
       "\n",
       "    .dataframe thead th {\n",
       "        text-align: right;\n",
       "    }\n",
       "</style>\n",
       "<table border=\"1\" class=\"dataframe\">\n",
       "  <thead>\n",
       "    <tr style=\"text-align: right;\">\n",
       "      <th></th>\n",
       "      <th>Idade_Meses</th>\n",
       "      <th>Peso (g)</th>\n",
       "      <th>Timepoint</th>\n",
       "      <th>Tumor Volume (mm3)</th>\n",
       "      <th>Sitios Metastáticos</th>\n",
       "    </tr>\n",
       "    <tr>\n",
       "      <th>ID Mouse</th>\n",
       "      <th></th>\n",
       "      <th></th>\n",
       "      <th></th>\n",
       "      <th></th>\n",
       "      <th></th>\n",
       "    </tr>\n",
       "  </thead>\n",
       "  <tbody>\n",
       "    <tr>\n",
       "      <th>m000</th>\n",
       "      <td>21.0</td>\n",
       "      <td>23.0</td>\n",
       "      <td>15.0</td>\n",
       "      <td>38.578206</td>\n",
       "      <td>2.0</td>\n",
       "    </tr>\n",
       "    <tr>\n",
       "      <th>m002</th>\n",
       "      <td>5.0</td>\n",
       "      <td>15.0</td>\n",
       "      <td>5.0</td>\n",
       "      <td>42.618402</td>\n",
       "      <td>0.0</td>\n",
       "    </tr>\n",
       "    <tr>\n",
       "      <th>m003</th>\n",
       "      <td>8.0</td>\n",
       "      <td>19.0</td>\n",
       "      <td>15.0</td>\n",
       "      <td>38.578974</td>\n",
       "      <td>0.0</td>\n",
       "    </tr>\n",
       "    <tr>\n",
       "      <th>m004</th>\n",
       "      <td>6.0</td>\n",
       "      <td>28.0</td>\n",
       "      <td>20.0</td>\n",
       "      <td>39.716441</td>\n",
       "      <td>2.0</td>\n",
       "    </tr>\n",
       "    <tr>\n",
       "      <th>m005</th>\n",
       "      <td>16.0</td>\n",
       "      <td>27.0</td>\n",
       "      <td>15.0</td>\n",
       "      <td>40.130019</td>\n",
       "      <td>2.0</td>\n",
       "    </tr>\n",
       "  </tbody>\n",
       "</table>\n",
       "</div>"
      ],
      "text/plain": [
       "          Idade_Meses  Peso (g)  Timepoint  Tumor Volume (mm3)  \\\n",
       "ID Mouse                                                         \n",
       "m000             21.0      23.0       15.0           38.578206   \n",
       "m002              5.0      15.0        5.0           42.618402   \n",
       "m003              8.0      19.0       15.0           38.578974   \n",
       "m004              6.0      28.0       20.0           39.716441   \n",
       "m005             16.0      27.0       15.0           40.130019   \n",
       "\n",
       "          Sitios Metastáticos  \n",
       "ID Mouse                       \n",
       "m000                      2.0  \n",
       "m002                      0.0  \n",
       "m003                      0.0  \n",
       "m004                      2.0  \n",
       "m005                      2.0  "
      ]
     },
     "execution_count": 56,
     "metadata": {},
     "output_type": "execute_result"
    }
   ],
   "source": [
    "avg_tumor_volume.head()"
   ]
  },
  {
   "cell_type": "code",
   "execution_count": 57,
   "id": "012d42d6-6bac-45fc-aec2-b36a220c2081",
   "metadata": {},
   "outputs": [
    {
     "data": {
      "image/png": "[encoded data removed]",
      "text/plain": [
       "<Figure size 640x480 with 1 Axes>"
      ]
     },
     "metadata": {},
     "output_type": "display_data"
    }
   ],
   "source": [
    "# Scatter Plot\n",
    "x_values = avg_tumor_volume[\"Peso (g)\"]\n",
    "y_values = avg_tumor_volume[\"Tumor Volume (mm3)\"]\n",
    "plt.scatter(x_values, y_values)\n",
    "plt.title(\"Peso (g) do Mouse x Média Tumor Volume(mm3)\")\n",
    "plt.xlabel(\"\\nPeso(g)\")\n",
    "plt.ylabel(\"Média de Tumor Volume (mm3)\")\n",
    "plt.show()"
   ]
  },
  {
   "cell_type": "code",
   "execution_count": 58,
   "id": "c277ed4d-2a0a-497b-a56f-2a9d73c0cce5",
   "metadata": {},
   "outputs": [
    {
     "name": "stdout",
     "output_type": "stream",
     "text": [
      "A correlação entre Peso (g) e Tumor Volume (mm3) é de -0.22\n"
     ]
    }
   ],
   "source": [
    "# Calcula a correlação\n",
    "correlation_model = st.pearsonr(avg_tumor_volume[\"Peso (g)\"], avg_tumor_volume[\"Tumor Volume (mm3)\"])\n",
    "print(f\"A correlação entre Peso (g) e Tumor Volume (mm3) é de {round(correlation_model[0],2)}\")"
   ]
  },
  {
   "cell_type": "markdown",
   "id": "c5c4a100-17b1-4268-b857-c0874a0d3d29",
   "metadata": {},
   "source": [
    "## Quantificando e Prevendo a Relação Através de Regressão Linear\n",
    "\n",
    "Regressão Linear é um método estatístico usado para modelar a relação entre uma variável dependente e uma ou mais variáveis independentes. O objetivo é encontrar uma linha reta que melhor se ajuste aos dados, minimizando a soma dos quadrados das diferenças entre os valores observados e os valores previstos pela linha de regressão. Em outras palavras, busca-se descrever como a variável de interesse responde à mudança das outras variáveis.\n",
    "\n",
    "https://docs.scipy.org/doc/scipy/reference/generated/scipy.stats.linregress.html"
   ]
  },
  {
   "cell_type": "code",
   "execution_count": 59,
   "id": "95ffa9fc-eb66-460e-bf93-e17291f0849b",
   "metadata": {},
   "outputs": [],
   "source": [
    "# Cria o modelo de regressão\n",
    "modelo = st.linregress(avg_tumor_volume[\"Peso (g)\"], avg_tumor_volume[\"Tumor Volume (mm3)\"])"
   ]
  },
  {
   "cell_type": "code",
   "execution_count": 60,
   "id": "23721b48-ea43-4eea-a7bb-5cf8f48efbd9",
   "metadata": {},
   "outputs": [
    {
     "data": {
      "text/plain": [
       "43.1616906149073"
      ]
     },
     "execution_count": 60,
     "metadata": {},
     "output_type": "execute_result"
    }
   ],
   "source": [
    "modelo.intercept"
   ]
  },
  {
   "cell_type": "code",
   "execution_count": 61,
   "id": "2e3a3455-29e0-457f-8860-753a99512440",
   "metadata": {},
   "outputs": [
    {
     "data": {
      "text/plain": [
       "-0.16303360099718336"
      ]
     },
     "execution_count": 61,
     "metadata": {},
     "output_type": "execute_result"
    }
   ],
   "source": [
    "modelo.slope"
   ]
  },
  {
   "cell_type": "markdown",
   "id": "83a25941-1882-4101-bb7f-9a7b83e2001d",
   "metadata": {},
   "source": [
    "Fórmula da Regressão Linear Simples\n",
    "\n",
    "y = β0 + β1x\n",
    "\n",
    "- y é a variável dependente que estamos tentando prever ou explicar.\n",
    "- x é a variável independente usada para prever y.\n",
    "- 𝛽0 é o intercepto da reta, representando o valor esperado de 𝑦 quando x é igual a zero.\n",
    "- 𝛽1 é o coeficiente da variável independente (também chamado slope), indicando a mudança esperada em y para um aumento de uma unidade em x.\n",
    "<!-- Projeto Desenvolvido na Data Science Academy - www.datascienceacademy.com.br -->"
   ]
  },
  {
   "cell_type": "code",
   "execution_count": 62,
   "id": "1f350281-4148-4569-9f50-1a1cff71cebb",
   "metadata": {},
   "outputs": [],
   "source": [
    "# Cria a fórmula de regressão com os coeficientes encontrados\n",
    "modelo_dsa = modelo.intercept + modelo.slope * avg_tumor_volume[\"Peso (g)\"]"
   ]
  },
  {
   "cell_type": "code",
   "execution_count": 63,
   "id": "2e5c81c5-d9c1-478a-a609-b4577df5086c",
   "metadata": {},
   "outputs": [],
   "source": [
    "# Calcula a linha de regressão\n",
    "line_equation = f\"y={round(modelo.slope, 2)}x + {round(modelo.intercept, 2)}\""
   ]
  },
  {
   "cell_type": "code",
   "execution_count": 64,
   "id": "a1d739c8-8a5a-4375-b65b-e1a71b7d2103",
   "metadata": {},
   "outputs": [
    {
     "data": {
      "image/png": "[encoded data removed]",
      "text/plain": [
       "<Figure size 640x480 with 1 Axes>"
      ]
     },
     "metadata": {},
     "output_type": "display_data"
    }
   ],
   "source": [
    "# Plot\n",
    "plt.scatter(avg_tumor_volume[\"Peso (g)\"], avg_tumor_volume[\"Tumor Volume (mm3)\"], color = \"r\")\n",
    "plt.plot(avg_tumor_volume[\"Peso (g)\"], modelo_dsa, color = \"blue\")\n",
    "plt.xlabel(\"\\nPeso (g)\")\n",
    "plt.ylabel(\"Tumor Volume (mm3)\")\n",
    "plt.title(\"Peso(g) Vs Tumor Volume(mm3) Para Capomulin\")\n",
    "plt.annotate(line_equation, (20,36))\n",
    "plt.show();"
   ]
  },
  {
   "cell_type": "markdown",
   "id": "8c8da0e2-f457-42a8-9032-f1c5c70aa380",
   "metadata": {},
   "source": [
    "Há uma relação negativa entre as variáveis. Isso significa que à medida que o volume do tumor diminui, aumenta o peso da cobaia (mouse). Ou seja, quanto menor o tumor, maior o potencial de ganho de peso da cobaia, possivelmente devido à melhora da saúde ou outras condições relacionadas."
   ]
  },
  {
   "cell_type": "markdown",
   "id": "8b768e71-e775-44d5-b116-a3cec2768886",
   "metadata": {},
   "source": [
    "# Fim!"
   ]
  }
 ],
 "metadata": {
  "kernelspec": {
   "display_name": "Python 3 (ipykernel)",
   "language": "python",
   "name": "python3"
  },
  "language_info": {
   "codemirror_mode": {
    "name": "ipython",
    "version": 3
   },
   "file_extension": ".py",
   "mimetype": "text/x-python",
   "name": "python",
   "nbconvert_exporter": "python",
   "pygments_lexer": "ipython3",
   "version": "3.11.7"
  }
 },
 "nbformat": 4,
 "nbformat_minor": 5
}
